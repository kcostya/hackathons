{
  "cells": [
    {
      "metadata": {
        "_uuid": "8f2839f25d086af736a60e9eeb907d3b93b6e0e5",
        "_cell_guid": "b1076dfc-b9ad-4769-8c92-a6c4dae69d19",
        "trusted": true
      },
      "cell_type": "code",
      "source": "# Import the neccessary modules for data manipulation and visual representation\nimport pandas as pd\nimport numpy as np\n\nimport matplotlib.pyplot as plt\nimport matplotlib as matplot\nimport seaborn as sns\n%matplotlib inline\n\nimport scipy.stats as stats\n\nfrom sklearn.preprocessing import LabelEncoder\nfrom sklearn.cross_validation import StratifiedKFold\nfrom sklearn.metrics import f1_score\nfrom sklearn.metrics import roc_auc_score, precision_recall_curve\n\nfrom catboost import CatBoostClassifier\n\nimport os\nprint(os.listdir(\"../input\"))",
      "execution_count": 1,
      "outputs": [
        {
          "output_type": "stream",
          "text": "/opt/conda/lib/python3.6/site-packages/sklearn/cross_validation.py:41: DeprecationWarning: This module was deprecated in version 0.18 in favor of the model_selection module into which all the refactored classes and functions are moved. Also note that the interface of the new CV iterators are different from that of this module. This module will be removed in 0.20.\n  \"This module will be removed in 0.20.\", DeprecationWarning)\n",
          "name": "stderr"
        },
        {
          "output_type": "stream",
          "text": "['train.csv', 'sample_submission.csv', 'test.csv']\n",
          "name": "stdout"
        }
      ]
    },
    {
      "metadata": {
        "_uuid": "4930bc19e8c510e10bd4759bbb2d62472f645de8"
      },
      "cell_type": "markdown",
      "source": "### Data import"
    },
    {
      "metadata": {
        "_cell_guid": "79c7e3d0-c299-4dcb-8224-4455121ee9b0",
        "_uuid": "d629ff2d2480ee46fbb7e2d37f6b5fab8052498a",
        "trusted": true
      },
      "cell_type": "code",
      "source": "# Read the csv files and store the datasets into train and test\ntrain = pd.read_csv('../input/train.csv')\ntest = pd.read_csv('../input/test.csv')\nsubmission = pd.read_csv('../input/sample_submission.csv')",
      "execution_count": 2,
      "outputs": []
    },
    {
      "metadata": {
        "trusted": true,
        "_uuid": "cecd2590d1295a5d1cf666e2c5c7ce4fa2f7df49"
      },
      "cell_type": "code",
      "source": "y = train.is_promoted",
      "execution_count": 3,
      "outputs": []
    },
    {
      "metadata": {
        "trusted": true,
        "_uuid": "966604adc93c8365d9420bb160266e0d6b24d9c1"
      },
      "cell_type": "code",
      "source": "print(\"Train shape: {}\\n Test shape: {}\\n\".format(train.shape, test.shape))",
      "execution_count": 4,
      "outputs": [
        {
          "output_type": "stream",
          "text": "Train shape: (54808, 14)\n Test shape: (23490, 13)\n\n",
          "name": "stdout"
        }
      ]
    },
    {
      "metadata": {
        "trusted": true,
        "_uuid": "233467cc37fa39faacf21d6b035d3e7277e87570"
      },
      "cell_type": "code",
      "source": "# Check how many people are promoted (whether we have an imbalanced dataset)\npromo_rate = train.is_promoted.value_counts() / len(train)\npromo_rate",
      "execution_count": 5,
      "outputs": [
        {
          "output_type": "execute_result",
          "execution_count": 5,
          "data": {
            "text/plain": "0    0.91483\n1    0.08517\nName: is_promoted, dtype: float64"
          },
          "metadata": {}
        }
      ]
    },
    {
      "metadata": {
        "trusted": true,
        "_uuid": "64b49513c4b26c4c535091062e400f299dd283f1"
      },
      "cell_type": "code",
      "source": "# Concatenate train and test\ndf = pd.concat([train.drop(['employee_id', 'is_promoted'], axis=1), \n                test.drop('employee_id', axis=1)], axis=0)\nntrain = train.shape[0]\nntest = test.shape[0]",
      "execution_count": 6,
      "outputs": []
    },
    {
      "metadata": {
        "trusted": true,
        "_uuid": "3f0ade0e7dc35238ad502d287a15f77295e5374d"
      },
      "cell_type": "code",
      "source": "df.shape",
      "execution_count": 7,
      "outputs": [
        {
          "output_type": "execute_result",
          "execution_count": 7,
          "data": {
            "text/plain": "(78298, 12)"
          },
          "metadata": {}
        }
      ]
    },
    {
      "metadata": {
        "trusted": true,
        "_uuid": "322a07c3e460af91892fe991a31b7d59e1111b06"
      },
      "cell_type": "code",
      "source": "df.head()",
      "execution_count": 8,
      "outputs": [
        {
          "output_type": "execute_result",
          "execution_count": 8,
          "data": {
            "text/plain": "          department        ...         avg_training_score\n0  Sales & Marketing        ...                         49\n1         Operations        ...                         60\n2  Sales & Marketing        ...                         50\n3  Sales & Marketing        ...                         50\n4         Technology        ...                         73\n\n[5 rows x 12 columns]",
            "text/html": "<div>\n<style scoped>\n    .dataframe tbody tr th:only-of-type {\n        vertical-align: middle;\n    }\n\n    .dataframe tbody tr th {\n        vertical-align: top;\n    }\n\n    .dataframe thead th {\n        text-align: right;\n    }\n</style>\n<table border=\"1\" class=\"dataframe\">\n  <thead>\n    <tr style=\"text-align: right;\">\n      <th></th>\n      <th>department</th>\n      <th>region</th>\n      <th>education</th>\n      <th>gender</th>\n      <th>recruitment_channel</th>\n      <th>no_of_trainings</th>\n      <th>age</th>\n      <th>previous_year_rating</th>\n      <th>length_of_service</th>\n      <th>KPIs_met &gt;80%</th>\n      <th>awards_won?</th>\n      <th>avg_training_score</th>\n    </tr>\n  </thead>\n  <tbody>\n    <tr>\n      <th>0</th>\n      <td>Sales &amp; Marketing</td>\n      <td>region_7</td>\n      <td>Master's &amp; above</td>\n      <td>f</td>\n      <td>sourcing</td>\n      <td>1</td>\n      <td>35</td>\n      <td>5.0</td>\n      <td>8</td>\n      <td>1</td>\n      <td>0</td>\n      <td>49</td>\n    </tr>\n    <tr>\n      <th>1</th>\n      <td>Operations</td>\n      <td>region_22</td>\n      <td>Bachelor's</td>\n      <td>m</td>\n      <td>other</td>\n      <td>1</td>\n      <td>30</td>\n      <td>5.0</td>\n      <td>4</td>\n      <td>0</td>\n      <td>0</td>\n      <td>60</td>\n    </tr>\n    <tr>\n      <th>2</th>\n      <td>Sales &amp; Marketing</td>\n      <td>region_19</td>\n      <td>Bachelor's</td>\n      <td>m</td>\n      <td>sourcing</td>\n      <td>1</td>\n      <td>34</td>\n      <td>3.0</td>\n      <td>7</td>\n      <td>0</td>\n      <td>0</td>\n      <td>50</td>\n    </tr>\n    <tr>\n      <th>3</th>\n      <td>Sales &amp; Marketing</td>\n      <td>region_23</td>\n      <td>Bachelor's</td>\n      <td>m</td>\n      <td>other</td>\n      <td>2</td>\n      <td>39</td>\n      <td>1.0</td>\n      <td>10</td>\n      <td>0</td>\n      <td>0</td>\n      <td>50</td>\n    </tr>\n    <tr>\n      <th>4</th>\n      <td>Technology</td>\n      <td>region_26</td>\n      <td>Bachelor's</td>\n      <td>m</td>\n      <td>other</td>\n      <td>1</td>\n      <td>45</td>\n      <td>3.0</td>\n      <td>2</td>\n      <td>0</td>\n      <td>0</td>\n      <td>73</td>\n    </tr>\n  </tbody>\n</table>\n</div>"
          },
          "metadata": {}
        }
      ]
    },
    {
      "metadata": {
        "trusted": true,
        "_uuid": "f839150c41e004f93f8b243fffa1dbdd34a4a268"
      },
      "cell_type": "code",
      "source": "# Check to see if there are any missing values in data set\ndf.isnull().any()",
      "execution_count": 9,
      "outputs": [
        {
          "output_type": "execute_result",
          "execution_count": 9,
          "data": {
            "text/plain": "department              False\nregion                  False\neducation                True\ngender                  False\nrecruitment_channel     False\nno_of_trainings         False\nage                     False\nprevious_year_rating     True\nlength_of_service       False\nKPIs_met >80%           False\nawards_won?             False\navg_training_score      False\ndtype: bool"
          },
          "metadata": {}
        }
      ]
    },
    {
      "metadata": {
        "_uuid": "873c31ac7ab50ccf75ebefd76dcacf397a31c34a"
      },
      "cell_type": "markdown",
      "source": "### Feature Engineering"
    },
    {
      "metadata": {
        "trusted": true,
        "_uuid": "4ad702bcd1d9512649fec9db0452411509710850"
      },
      "cell_type": "code",
      "source": "df['dept_region'] = df['department'] + df['region']\n\ndf['work_fraction'] = df['length_of_service'] / df['age']\ntrain['work_fraction'] = train['length_of_service'] / train['age']\n\ndf['department_rating_mean'] = df.groupby('department')['previous_year_rating'].transform('mean')\ndf['department_score_mean'] = df.groupby('department')['avg_training_score'].transform('mean')\n\ndf['department_rating_mean'] = df['previous_year_rating']/df['department_rating_mean'] \ndf['department_score_mean'] = df['avg_training_score']/df['department_score_mean'] \n\ndf['dept_region_rating_mean'] = df.groupby('dept_region')['previous_year_rating'].transform('mean')\ndf['dept_region_score_mean'] = df.groupby('dept_region')['avg_training_score'].transform('mean')\n\ndf['dept_region_rating_mean'] = df['previous_year_rating']/df['dept_region_rating_mean'] \ndf['dept_region_score_mean'] = df['avg_training_score']/df['dept_region_score_mean'] ",
      "execution_count": 10,
      "outputs": []
    },
    {
      "metadata": {
        "_uuid": "ecc443d032a4ea51de7a197e48ac2fb609d14852"
      },
      "cell_type": "markdown",
      "source": "### Replace NA values with `'NA'` for `education` and `0` for `previous_year_rating` "
    },
    {
      "metadata": {
        "trusted": true,
        "_uuid": "250407dd2538d2ee5e37c50f3eee28236c92495d"
      },
      "cell_type": "code",
      "source": "df.education.fillna('NA', inplace=True)\ndf.previous_year_rating.fillna(0, inplace=True)",
      "execution_count": 11,
      "outputs": []
    },
    {
      "metadata": {
        "trusted": true,
        "_uuid": "33f912bc6fe57b6f85a412a2e0399997de8ca3b7"
      },
      "cell_type": "code",
      "source": "df.education.value_counts()",
      "execution_count": 12,
      "outputs": [
        {
          "output_type": "execute_result",
          "execution_count": 12,
          "data": {
            "text/plain": "Bachelor's          52247\nMaster's & above    21429\nNA                   3443\nBelow Secondary      1179\nName: education, dtype: int64"
          },
          "metadata": {}
        }
      ]
    },
    {
      "metadata": {
        "trusted": true,
        "_uuid": "77086b509d5a0d9aae62f85b5ecd32f0ef910c7e"
      },
      "cell_type": "code",
      "source": "# Check the type of our features. \ndf.dtypes",
      "execution_count": 13,
      "outputs": [
        {
          "output_type": "execute_result",
          "execution_count": 13,
          "data": {
            "text/plain": "department                  object\nregion                      object\neducation                   object\ngender                      object\nrecruitment_channel         object\nno_of_trainings              int64\nage                          int64\nprevious_year_rating       float64\nlength_of_service            int64\nKPIs_met >80%                int64\nawards_won?                  int64\navg_training_score           int64\ndept_region                 object\nwork_fraction              float64\ndepartment_rating_mean     float64\ndepartment_score_mean      float64\ndept_region_rating_mean    float64\ndept_region_score_mean     float64\ndtype: object"
          },
          "metadata": {}
        }
      ]
    },
    {
      "metadata": {
        "trusted": true,
        "_uuid": "3c5159a7db2954afd3f7264cdce8e9426c9a2a4b"
      },
      "cell_type": "code",
      "source": "cats = [col for col in df.columns if not pd.api.types.is_numeric_dtype(df[col].dtype)]",
      "execution_count": 14,
      "outputs": []
    },
    {
      "metadata": {
        "trusted": true,
        "_uuid": "03b2969cff824c02e7913e5d908076b374964207"
      },
      "cell_type": "code",
      "source": "cats = cats + ['KPIs_met >80%','awards_won?', 'previous_year_rating']",
      "execution_count": 15,
      "outputs": []
    },
    {
      "metadata": {
        "trusted": true,
        "_uuid": "6f133803a1f306e554d62357f2402e3703807384"
      },
      "cell_type": "code",
      "source": "cats",
      "execution_count": 16,
      "outputs": [
        {
          "output_type": "execute_result",
          "execution_count": 16,
          "data": {
            "text/plain": "['department',\n 'region',\n 'education',\n 'gender',\n 'recruitment_channel',\n 'dept_region',\n 'KPIs_met >80%',\n 'awards_won?',\n 'previous_year_rating']"
          },
          "metadata": {}
        }
      ]
    },
    {
      "metadata": {
        "_uuid": "d4d353025d8d09fe735acf44f3144f564cb96d00"
      },
      "cell_type": "markdown",
      "source": "### Basic EDA"
    },
    {
      "metadata": {
        "trusted": true,
        "_uuid": "2372e4b6767d025ef3fbf3faf2ae9ccdd573a166"
      },
      "cell_type": "code",
      "source": "# Display the statistical overview of the employees\ndf.describe().drop('count', axis=0).T",
      "execution_count": 17,
      "outputs": [
        {
          "output_type": "execute_result",
          "execution_count": 17,
          "data": {
            "text/plain": "                              mean        std    ...            75%        max\nno_of_trainings           1.253378   0.606766    ...       1.000000  10.000000\nage                      34.797619   7.665928    ...      39.000000  60.000000\nprevious_year_rating      3.079593   1.499173    ...       4.000000   5.000000\nlength_of_service         5.848974   4.248070    ...       7.000000  37.000000\nKPIs_met >80%             0.354032   0.478222    ...       1.000000   1.000000\nawards_won?               0.023053   0.150073    ...       0.000000   1.000000\navg_training_score       63.349664  13.383664    ...      76.000000  99.000000\nwork_fraction             0.159293   0.089331    ...       0.216216   0.622642\ndepartment_rating_mean    1.000000   0.377830    ...       1.300927   1.626159\ndepartment_score_mean     1.000000   0.081644    ...       1.026174   1.971778\ndept_region_rating_mean   1.000000   0.376049    ...       1.307190   2.034884\ndept_region_score_mean    1.000000   0.081226    ...       1.024135   1.990883\n\n[12 rows x 7 columns]",
            "text/html": "<div>\n<style scoped>\n    .dataframe tbody tr th:only-of-type {\n        vertical-align: middle;\n    }\n\n    .dataframe tbody tr th {\n        vertical-align: top;\n    }\n\n    .dataframe thead th {\n        text-align: right;\n    }\n</style>\n<table border=\"1\" class=\"dataframe\">\n  <thead>\n    <tr style=\"text-align: right;\">\n      <th></th>\n      <th>mean</th>\n      <th>std</th>\n      <th>min</th>\n      <th>25%</th>\n      <th>50%</th>\n      <th>75%</th>\n      <th>max</th>\n    </tr>\n  </thead>\n  <tbody>\n    <tr>\n      <th>no_of_trainings</th>\n      <td>1.253378</td>\n      <td>0.606766</td>\n      <td>1.000000</td>\n      <td>1.000000</td>\n      <td>1.000000</td>\n      <td>1.000000</td>\n      <td>10.000000</td>\n    </tr>\n    <tr>\n      <th>age</th>\n      <td>34.797619</td>\n      <td>7.665928</td>\n      <td>20.000000</td>\n      <td>29.000000</td>\n      <td>33.000000</td>\n      <td>39.000000</td>\n      <td>60.000000</td>\n    </tr>\n    <tr>\n      <th>previous_year_rating</th>\n      <td>3.079593</td>\n      <td>1.499173</td>\n      <td>0.000000</td>\n      <td>2.000000</td>\n      <td>3.000000</td>\n      <td>4.000000</td>\n      <td>5.000000</td>\n    </tr>\n    <tr>\n      <th>length_of_service</th>\n      <td>5.848974</td>\n      <td>4.248070</td>\n      <td>1.000000</td>\n      <td>3.000000</td>\n      <td>5.000000</td>\n      <td>7.000000</td>\n      <td>37.000000</td>\n    </tr>\n    <tr>\n      <th>KPIs_met &gt;80%</th>\n      <td>0.354032</td>\n      <td>0.478222</td>\n      <td>0.000000</td>\n      <td>0.000000</td>\n      <td>0.000000</td>\n      <td>1.000000</td>\n      <td>1.000000</td>\n    </tr>\n    <tr>\n      <th>awards_won?</th>\n      <td>0.023053</td>\n      <td>0.150073</td>\n      <td>0.000000</td>\n      <td>0.000000</td>\n      <td>0.000000</td>\n      <td>0.000000</td>\n      <td>1.000000</td>\n    </tr>\n    <tr>\n      <th>avg_training_score</th>\n      <td>63.349664</td>\n      <td>13.383664</td>\n      <td>39.000000</td>\n      <td>51.000000</td>\n      <td>60.000000</td>\n      <td>76.000000</td>\n      <td>99.000000</td>\n    </tr>\n    <tr>\n      <th>work_fraction</th>\n      <td>0.159293</td>\n      <td>0.089331</td>\n      <td>0.023256</td>\n      <td>0.086957</td>\n      <td>0.145833</td>\n      <td>0.216216</td>\n      <td>0.622642</td>\n    </tr>\n    <tr>\n      <th>department_rating_mean</th>\n      <td>1.000000</td>\n      <td>0.377830</td>\n      <td>0.274759</td>\n      <td>0.824277</td>\n      <td>0.975695</td>\n      <td>1.300927</td>\n      <td>1.626159</td>\n    </tr>\n    <tr>\n      <th>department_score_mean</th>\n      <td>1.000000</td>\n      <td>0.081644</td>\n      <td>0.776761</td>\n      <td>0.962678</td>\n      <td>0.995848</td>\n      <td>1.026174</td>\n      <td>1.971778</td>\n    </tr>\n    <tr>\n      <th>dept_region_rating_mean</th>\n      <td>1.000000</td>\n      <td>0.376049</td>\n      <td>0.239130</td>\n      <td>0.817669</td>\n      <td>0.955268</td>\n      <td>1.307190</td>\n      <td>2.034884</td>\n    </tr>\n    <tr>\n      <th>dept_region_score_mean</th>\n      <td>1.000000</td>\n      <td>0.081226</td>\n      <td>0.772475</td>\n      <td>0.962270</td>\n      <td>0.993129</td>\n      <td>1.024135</td>\n      <td>1.990883</td>\n    </tr>\n  </tbody>\n</table>\n</div>"
          },
          "metadata": {}
        }
      ]
    },
    {
      "metadata": {
        "trusted": true,
        "_uuid": "0b3b4393a7c932e61ad84f9e2b9ad1708a6341e4"
      },
      "cell_type": "code",
      "source": "# Overview of summary (promoted VS not promoted)\npromo_summary = train.drop('employee_id', axis=1).groupby('is_promoted')\npromo_summary.mean().T",
      "execution_count": 18,
      "outputs": [
        {
          "output_type": "execute_result",
          "execution_count": 18,
          "data": {
            "text/plain": "is_promoted                   0          1\nno_of_trainings        1.257639   1.203299\nage                   34.844037  34.372965\nprevious_year_rating   3.267911   3.986140\nlength_of_service      5.879398   5.716367\nKPIs_met >80%          0.319685   0.698800\nawards_won?            0.014180   0.119751\navg_training_score    62.647686  71.325193\nwork_fraction          0.159749   0.158341",
            "text/html": "<div>\n<style scoped>\n    .dataframe tbody tr th:only-of-type {\n        vertical-align: middle;\n    }\n\n    .dataframe tbody tr th {\n        vertical-align: top;\n    }\n\n    .dataframe thead th {\n        text-align: right;\n    }\n</style>\n<table border=\"1\" class=\"dataframe\">\n  <thead>\n    <tr style=\"text-align: right;\">\n      <th>is_promoted</th>\n      <th>0</th>\n      <th>1</th>\n    </tr>\n  </thead>\n  <tbody>\n    <tr>\n      <th>no_of_trainings</th>\n      <td>1.257639</td>\n      <td>1.203299</td>\n    </tr>\n    <tr>\n      <th>age</th>\n      <td>34.844037</td>\n      <td>34.372965</td>\n    </tr>\n    <tr>\n      <th>previous_year_rating</th>\n      <td>3.267911</td>\n      <td>3.986140</td>\n    </tr>\n    <tr>\n      <th>length_of_service</th>\n      <td>5.879398</td>\n      <td>5.716367</td>\n    </tr>\n    <tr>\n      <th>KPIs_met &gt;80%</th>\n      <td>0.319685</td>\n      <td>0.698800</td>\n    </tr>\n    <tr>\n      <th>awards_won?</th>\n      <td>0.014180</td>\n      <td>0.119751</td>\n    </tr>\n    <tr>\n      <th>avg_training_score</th>\n      <td>62.647686</td>\n      <td>71.325193</td>\n    </tr>\n    <tr>\n      <th>work_fraction</th>\n      <td>0.159749</td>\n      <td>0.158341</td>\n    </tr>\n  </tbody>\n</table>\n</div>"
          },
          "metadata": {}
        }
      ]
    },
    {
      "metadata": {
        "trusted": true,
        "_uuid": "532c208994224aaaddea61a1768ccd13d91fcce3"
      },
      "cell_type": "code",
      "source": "#Correlation Matrix\ncorr = train.drop('employee_id', axis=1).corr()\ncorr = (corr)\nsns.heatmap(corr, \n            xticklabels=corr.columns.values,\n            yticklabels=corr.columns.values);",
      "execution_count": 19,
      "outputs": [
        {
          "output_type": "display_data",
          "data": {
            "text/plain": "<Figure size 432x288 with 2 Axes>",
            "image/png": "[encoded data removed]"
          },
          "metadata": {
            "needs_background": "light"
          }
        }
      ]
    },
    {
      "metadata": {
        "trusted": true,
        "_uuid": "acac41c92b4e5d0cebba4f0633bd914ae0c83931"
      },
      "cell_type": "code",
      "source": "sns.distplot(train.avg_training_score[train.is_promoted==1], color='blue');\nsns.distplot(train.avg_training_score[train.is_promoted==0], color='red');",
      "execution_count": 20,
      "outputs": [
        {
          "output_type": "stream",
          "text": "/opt/conda/lib/python3.6/site-packages/scipy/stats/stats.py:1713: FutureWarning: Using a non-tuple sequence for multidimensional indexing is deprecated; use `arr[tuple(seq)]` instead of `arr[seq]`. In the future this will be interpreted as an array index, `arr[np.array(seq)]`, which will result either in an error or a different result.\n  return np.add.reduce(sorted[indexer] * weights, axis=axis) / sumval\n",
          "name": "stderr"
        },
        {
          "output_type": "display_data",
          "data": {
            "text/plain": "<Figure size 432x288 with 1 Axes>",
            "image/png": "[encoded data removed]"
          },
          "metadata": {
            "needs_background": "light"
          }
        }
      ]
    },
    {
      "metadata": {
        "trusted": true,
        "_uuid": "8435424940f7e63d915efda421aad341bcf16482"
      },
      "cell_type": "code",
      "source": "# Try additionally binning the avg_training_score\navg_score = pd.cut(df.avg_training_score, \n                   [0, 45, 55, 65, 75, 85, 95], \n                   labels=False, \n                   retbins=False, \n                   right=False)\ndf['avg_training_score_bin'] = avg_score",
      "execution_count": 21,
      "outputs": []
    },
    {
      "metadata": {
        "trusted": true,
        "_uuid": "63fd42f8bddb4b76e6531f2f6b2d46643cb0d484"
      },
      "cell_type": "code",
      "source": "cats = cats + ['avg_training_score_bin']",
      "execution_count": 22,
      "outputs": []
    },
    {
      "metadata": {
        "trusted": true,
        "_uuid": "34fe8ab93fc71d30a577351dcd99d13f138acab9"
      },
      "cell_type": "code",
      "source": "# Count Plot (a.k.a. Bar Plot)\nsns.countplot(x='department', data=df).set_title('Employee Department Distribution');\nplt.xticks(rotation=-45);",
      "execution_count": 23,
      "outputs": [
        {
          "output_type": "display_data",
          "data": {
            "text/plain": "<Figure size 432x288 with 1 Axes>",
            "image/png": "[encoded data removed]"
          },
          "metadata": {
            "needs_background": "light"
          }
        }
      ]
    },
    {
      "metadata": {
        "trusted": true,
        "_uuid": "9e1e6ad50d2f6b3aabf855615cd4ca4f9f49fea6"
      },
      "cell_type": "code",
      "source": "f, ax = plt.subplots(figsize=(15, 5))\nsns.countplot(y=\"department\", hue='is_promoted', data=train).set_title('Employee Department Promotion');",
      "execution_count": 24,
      "outputs": [
        {
          "output_type": "display_data",
          "data": {
            "text/plain": "<Figure size 1080x360 with 1 Axes>",
            "image/png": "[encoded data removed]"
          },
          "metadata": {
            "needs_background": "light"
          }
        }
      ]
    },
    {
      "metadata": {
        "_uuid": "560049756390db3383fde2289b38dccd564239aa"
      },
      "cell_type": "markdown",
      "source": "### Prepare the categorical variables"
    },
    {
      "metadata": {
        "trusted": true,
        "_uuid": "d56dadd27a5e9ce5ccec30716dc4beca0eacc6a9"
      },
      "cell_type": "code",
      "source": "le = LabelEncoder()\nfor c in cats:\n    df[c] = le.fit_transform(df[c])",
      "execution_count": 25,
      "outputs": []
    },
    {
      "metadata": {
        "trusted": true,
        "_uuid": "2c87e007ce88595a5451357fa20b70fefc03deae"
      },
      "cell_type": "code",
      "source": "cats_idx = [df.columns.get_loc(c) for c in cats]",
      "execution_count": 26,
      "outputs": []
    },
    {
      "metadata": {
        "trusted": true,
        "_uuid": "49ef947effe6c5e8b133b222f322494229da865f"
      },
      "cell_type": "code",
      "source": "cats_idx",
      "execution_count": 27,
      "outputs": [
        {
          "output_type": "execute_result",
          "execution_count": 27,
          "data": {
            "text/plain": "[0, 1, 2, 3, 4, 12, 9, 10, 7, 18]"
          },
          "metadata": {}
        }
      ]
    },
    {
      "metadata": {
        "_uuid": "d145fd8834316e3102715d21a035437cf8fc5dc0"
      },
      "cell_type": "markdown",
      "source": "### Model training"
    },
    {
      "metadata": {
        "trusted": true,
        "_uuid": "045c57e5bc69f2069b864909d7afbda90ee9d308",
        "_kg_hide-input": false,
        "_kg_hide-output": false,
        "scrolled": true
      },
      "cell_type": "code",
      "source": "clf=CatBoostClassifier(iterations=800,\n                       #depth = 3,\n                       #bagging_temperature = 1,\n                       cat_features=cats_idx, \n                       use_best_model=True,\n                       silent = True,\n                       random_state = 23,\n                       eval_metric = 'F1',\n                       #l2_leaf_reg = 10,\n                       od_type = 'Iter',\n                       od_wait = 200,\n                       loss_function='CrossEntropy')",
      "execution_count": 28,
      "outputs": []
    },
    {
      "metadata": {
        "trusted": true,
        "_uuid": "c273d1bfbf73905c66e0c9af6c5da0f01d758268"
      },
      "cell_type": "code",
      "source": "st_train = df.iloc[:ntrain, :].values\nst_test = df.iloc[ntrain:, :].values",
      "execution_count": 29,
      "outputs": []
    },
    {
      "metadata": {
        "trusted": true,
        "_uuid": "241b36953a69785a57179bfae4c30350536403fc"
      },
      "cell_type": "code",
      "source": "n_folds = 10",
      "execution_count": 30,
      "outputs": []
    },
    {
      "metadata": {
        "trusted": true,
        "_uuid": "cc0be31cd821befb6ee741a49b64b752d945911e"
      },
      "cell_type": "code",
      "source": "def scoring(y_true, y_hat):\n    \n    ths = []\n    f1scores = []\n    for th in np.arange(0.0, 1.0, 0.005):\n        y_hat_bin = y_hat>=th\n        f1scores.append(f1_score(y_true, y_hat_bin))\n        ths.append(th)\n    \n    return np.max(f1scores), ths[np.argmax(f1scores)]",
      "execution_count": 31,
      "outputs": []
    },
    {
      "metadata": {
        "trusted": true,
        "_uuid": "f821319bc3bfb1d8917d81200d22e0560fd09558",
        "scrolled": true
      },
      "cell_type": "code",
      "source": "def cat_train(random_state):\n    cv = StratifiedKFold(y, n_folds=n_folds, shuffle=True, random_state=random_state)\n    X_proba = np.zeros(ntrain)\n    X_preds = np.zeros(ntrain)\n    preds = np.zeros(ntest)\n    for i, (tr, ts) in enumerate(cv):\n        mod = clf.fit(st_train[tr], y[tr],\n                     eval_set=(st_train[ts], y[ts]))\n        X_proba[ts] = mod.predict_proba(st_train[ts])[:,1]\n        score = roc_auc_score(y[ts], X_proba[ts])\n        \n        score_valid, best_th = scoring(y[ts], X_proba[ts]) \n        X_preds[ts] = (X_proba[ts]>=best_th) * 1\n        f1 = f1_score(y[ts], X_preds[ts])\n        \n        pred = mod.predict_proba(st_test)[:,1]\n        preds += (pred>=best_th) * 1\n                              \n        print(\"fold {}, ROC AUC: {:.3f}, F1 Score: {:.5f}\".format(i,score,f1))\n              \n    score = roc_auc_score(y, X_proba)\n    f1 = f1_score(y, X_preds)\n    print(\"Full ROC AUC: {:.3f}, F1 Score: {:.5f}\".format(score, f1))\n    preds = (preds >= 5) * 1\n    return X_proba, X_preds, preds, score, f1",
      "execution_count": 32,
      "outputs": []
    },
    {
      "metadata": {
        "_kg_hide-output": true,
        "trusted": true,
        "scrolled": false,
        "_uuid": "abd246405292fe8f535020072cf0604fa8e696c1"
      },
      "cell_type": "code",
      "source": "preds_folds = []\nX_preds_folds = []\nX_proba_folds = []\nauc_folds = []\nf1_folds = []\n\nfor i in range(10):\n    X_proba, X_preds, preds, score, f1 = cat_train(40+i)\n    auc_folds.append(score)\n    f1_folds.append(f1)\n    preds_folds.append(preds)\n    X_preds_folds.append(X_preds)\n    X_proba_folds.append(X_proba)",
      "execution_count": 33,
      "outputs": [
        {
          "output_type": "stream",
          "text": "Learning rate set to 0.129271\nfold 0, ROC AUC: 0.918, F1 Score: 0.53001\nLearning rate set to 0.129271\nfold 1, ROC AUC: 0.904, F1 Score: 0.52562\nLearning rate set to 0.129271\nfold 2, ROC AUC: 0.907, F1 Score: 0.51495\nLearning rate set to 0.129271\nfold 3, ROC AUC: 0.914, F1 Score: 0.51902\nLearning rate set to 0.129271\nfold 4, ROC AUC: 0.921, F1 Score: 0.56225\nLearning rate set to 0.129271\nfold 5, ROC AUC: 0.915, F1 Score: 0.52851\nLearning rate set to 0.129271\nfold 6, ROC AUC: 0.911, F1 Score: 0.51829\nLearning rate set to 0.129271\nfold 7, ROC AUC: 0.911, F1 Score: 0.53259\nLearning rate set to 0.129272\nfold 8, ROC AUC: 0.914, F1 Score: 0.56913\nLearning rate set to 0.129272\nfold 9, ROC AUC: 0.909, F1 Score: 0.53680\nFull ROC AUC: 0.912, F1 Score: 0.53347\nLearning rate set to 0.129271\nfold 0, ROC AUC: 0.923, F1 Score: 0.53256\nLearning rate set to 0.129271\nfold 1, ROC AUC: 0.911, F1 Score: 0.53590\nLearning rate set to 0.129271\nfold 2, ROC AUC: 0.909, F1 Score: 0.53804\nLearning rate set to 0.129271\nfold 3, ROC AUC: 0.913, F1 Score: 0.54752\nLearning rate set to 0.129271\nfold 4, ROC AUC: 0.907, F1 Score: 0.53857\nLearning rate set to 0.129271\nfold 5, ROC AUC: 0.905, F1 Score: 0.51398\nLearning rate set to 0.129271\nfold 6, ROC AUC: 0.918, F1 Score: 0.54334\nLearning rate set to 0.129271\nfold 7, ROC AUC: 0.915, F1 Score: 0.51896\nLearning rate set to 0.129272\nfold 8, ROC AUC: 0.916, F1 Score: 0.56989\nLearning rate set to 0.129272\nfold 9, ROC AUC: 0.912, F1 Score: 0.52530\nFull ROC AUC: 0.913, F1 Score: 0.53600\nLearning rate set to 0.129271\nfold 0, ROC AUC: 0.917, F1 Score: 0.53927\nLearning rate set to 0.129271\nfold 1, ROC AUC: 0.917, F1 Score: 0.53699\nLearning rate set to 0.129271\nfold 2, ROC AUC: 0.890, F1 Score: 0.49109\nLearning rate set to 0.129271\nfold 3, ROC AUC: 0.910, F1 Score: 0.53485\nLearning rate set to 0.129271\nfold 4, ROC AUC: 0.907, F1 Score: 0.52422\nLearning rate set to 0.129271\nfold 5, ROC AUC: 0.921, F1 Score: 0.56024\nLearning rate set to 0.129271\nfold 6, ROC AUC: 0.918, F1 Score: 0.55271\nLearning rate set to 0.129271\nfold 7, ROC AUC: 0.904, F1 Score: 0.51190\nLearning rate set to 0.129272\nfold 8, ROC AUC: 0.918, F1 Score: 0.55409\nLearning rate set to 0.129272\nfold 9, ROC AUC: 0.905, F1 Score: 0.52174\nFull ROC AUC: 0.911, F1 Score: 0.53205\nLearning rate set to 0.129271\nfold 0, ROC AUC: 0.902, F1 Score: 0.51586\nLearning rate set to 0.129271\nfold 1, ROC AUC: 0.910, F1 Score: 0.51973\nLearning rate set to 0.129271\nfold 2, ROC AUC: 0.916, F1 Score: 0.55233\nLearning rate set to 0.129271\nfold 3, ROC AUC: 0.908, F1 Score: 0.52967\nLearning rate set to 0.129271\nfold 4, ROC AUC: 0.915, F1 Score: 0.54545\nLearning rate set to 0.129271\nfold 5, ROC AUC: 0.910, F1 Score: 0.52199\nLearning rate set to 0.129271\nfold 6, ROC AUC: 0.913, F1 Score: 0.52835\nLearning rate set to 0.129271\nfold 7, ROC AUC: 0.912, F1 Score: 0.52796\nLearning rate set to 0.129272\nfold 8, ROC AUC: 0.918, F1 Score: 0.55280\nLearning rate set to 0.129272\nfold 9, ROC AUC: 0.913, F1 Score: 0.53396\nFull ROC AUC: 0.912, F1 Score: 0.53292\nLearning rate set to 0.129271\nfold 0, ROC AUC: 0.901, F1 Score: 0.50523\nLearning rate set to 0.129271\nfold 1, ROC AUC: 0.920, F1 Score: 0.53353\nLearning rate set to 0.129271\nfold 2, ROC AUC: 0.914, F1 Score: 0.53577\nLearning rate set to 0.129271\nfold 3, ROC AUC: 0.915, F1 Score: 0.53369\nLearning rate set to 0.129271\nfold 4, ROC AUC: 0.910, F1 Score: 0.52980\nLearning rate set to 0.129271\nfold 5, ROC AUC: 0.919, F1 Score: 0.56319\nLearning rate set to 0.129271\nfold 6, ROC AUC: 0.918, F1 Score: 0.54074\nLearning rate set to 0.129271\nfold 7, ROC AUC: 0.913, F1 Score: 0.54768\nLearning rate set to 0.129272\nfold 8, ROC AUC: 0.914, F1 Score: 0.51237\nLearning rate set to 0.129272\nfold 9, ROC AUC: 0.912, F1 Score: 0.54172\nFull ROC AUC: 0.914, F1 Score: 0.53480\nLearning rate set to 0.129271\nfold 0, ROC AUC: 0.914, F1 Score: 0.55839\nLearning rate set to 0.129271\nfold 1, ROC AUC: 0.917, F1 Score: 0.56950\nLearning rate set to 0.129271\nfold 2, ROC AUC: 0.901, F1 Score: 0.51253\nLearning rate set to 0.129271\nfold 3, ROC AUC: 0.918, F1 Score: 0.55618\nLearning rate set to 0.129271\nfold 4, ROC AUC: 0.917, F1 Score: 0.53456\nLearning rate set to 0.129271\nfold 5, ROC AUC: 0.909, F1 Score: 0.49444\nLearning rate set to 0.129271\nfold 6, ROC AUC: 0.916, F1 Score: 0.54477\nLearning rate set to 0.129271\nfold 7, ROC AUC: 0.920, F1 Score: 0.54545\nLearning rate set to 0.129272\nfold 8, ROC AUC: 0.910, F1 Score: 0.52463\nLearning rate set to 0.129272\nfold 9, ROC AUC: 0.905, F1 Score: 0.51175\nFull ROC AUC: 0.912, F1 Score: 0.53526\nLearning rate set to 0.129271\nfold 0, ROC AUC: 0.921, F1 Score: 0.56595\nLearning rate set to 0.129271\nfold 1, ROC AUC: 0.906, F1 Score: 0.51351\nLearning rate set to 0.129271\nfold 2, ROC AUC: 0.903, F1 Score: 0.49620\nLearning rate set to 0.129271\nfold 3, ROC AUC: 0.913, F1 Score: 0.54591\nLearning rate set to 0.129271\nfold 4, ROC AUC: 0.920, F1 Score: 0.54651\nLearning rate set to 0.129271\nfold 5, ROC AUC: 0.917, F1 Score: 0.51448\nLearning rate set to 0.129271\nfold 6, ROC AUC: 0.906, F1 Score: 0.50898\nLearning rate set to 0.129271\nfold 7, ROC AUC: 0.911, F1 Score: 0.53920\nLearning rate set to 0.129272\nfold 8, ROC AUC: 0.915, F1 Score: 0.54497\nLearning rate set to 0.129272\nfold 9, ROC AUC: 0.917, F1 Score: 0.55673\nFull ROC AUC: 0.913, F1 Score: 0.53389\nLearning rate set to 0.129271\nfold 0, ROC AUC: 0.908, F1 Score: 0.52897\nLearning rate set to 0.129271\nfold 1, ROC AUC: 0.923, F1 Score: 0.57248\nLearning rate set to 0.129271\nfold 2, ROC AUC: 0.911, F1 Score: 0.54758\nLearning rate set to 0.129271\nfold 3, ROC AUC: 0.914, F1 Score: 0.52334\nLearning rate set to 0.129271\nfold 4, ROC AUC: 0.914, F1 Score: 0.52030\nLearning rate set to 0.129271\nfold 5, ROC AUC: 0.910, F1 Score: 0.52187\nLearning rate set to 0.129271\nfold 6, ROC AUC: 0.904, F1 Score: 0.49165\nLearning rate set to 0.129271\nfold 7, ROC AUC: 0.916, F1 Score: 0.53846\nLearning rate set to 0.129272\nfold 8, ROC AUC: 0.913, F1 Score: 0.55253\nLearning rate set to 0.129272\nfold 9, ROC AUC: 0.908, F1 Score: 0.52138\nFull ROC AUC: 0.912, F1 Score: 0.53299\nLearning rate set to 0.129271\nfold 0, ROC AUC: 0.913, F1 Score: 0.52265\nLearning rate set to 0.129271\nfold 1, ROC AUC: 0.912, F1 Score: 0.52009\nLearning rate set to 0.129271\nfold 2, ROC AUC: 0.914, F1 Score: 0.53684\nLearning rate set to 0.129271\nfold 3, ROC AUC: 0.908, F1 Score: 0.49620\nLearning rate set to 0.129271\nfold 4, ROC AUC: 0.906, F1 Score: 0.49488\nLearning rate set to 0.129271\nfold 5, ROC AUC: 0.919, F1 Score: 0.55635\nLearning rate set to 0.129271\nfold 6, ROC AUC: 0.906, F1 Score: 0.55110\nLearning rate set to 0.129271\nfold 7, ROC AUC: 0.914, F1 Score: 0.57102\nLearning rate set to 0.129272\nfold 8, ROC AUC: 0.908, F1 Score: 0.52416\nLearning rate set to 0.129272\nfold 9, ROC AUC: 0.927, F1 Score: 0.58687\nFull ROC AUC: 0.913, F1 Score: 0.53609\nLearning rate set to 0.129271\nfold 0, ROC AUC: 0.910, F1 Score: 0.53392\nLearning rate set to 0.129271\nfold 1, ROC AUC: 0.912, F1 Score: 0.52996\nLearning rate set to 0.129271\nfold 2, ROC AUC: 0.907, F1 Score: 0.53691\nLearning rate set to 0.129271\nfold 3, ROC AUC: 0.897, F1 Score: 0.48780\nLearning rate set to 0.129271\nfold 4, ROC AUC: 0.916, F1 Score: 0.54436\nLearning rate set to 0.129271\nfold 5, ROC AUC: 0.917, F1 Score: 0.55820\nLearning rate set to 0.129271\nfold 6, ROC AUC: 0.914, F1 Score: 0.55257\nLearning rate set to 0.129271\nfold 7, ROC AUC: 0.915, F1 Score: 0.55583\nLearning rate set to 0.129272\nfold 8, ROC AUC: 0.914, F1 Score: 0.52617\nLearning rate set to 0.129272\nfold 9, ROC AUC: 0.915, F1 Score: 0.51108\nFull ROC AUC: 0.911, F1 Score: 0.53441\n",
          "name": "stdout"
        }
      ]
    },
    {
      "metadata": {
        "_uuid": "bfc318fd361af85a4b3ea3d6b8fbf116717d8d87"
      },
      "cell_type": "markdown",
      "source": "### Model evaluation"
    },
    {
      "metadata": {
        "trusted": true,
        "_uuid": "5a6ac998fcb7202ebd23fd9601ae0a7bc1f44c32"
      },
      "cell_type": "code",
      "source": "X_proba = np.mean(X_proba_folds, axis=0)",
      "execution_count": 34,
      "outputs": []
    },
    {
      "metadata": {
        "trusted": true,
        "_uuid": "b00f4056a44be4b3ddb1847acd0b005e2abd02be"
      },
      "cell_type": "code",
      "source": "score = roc_auc_score(y, X_proba)\nf1 = f1_score(y, [round(value) for value in X_proba])\nprint(\"Total ROC AUC: {:.3f}, F1 Score: {:.5f}\".format(score, f1))",
      "execution_count": 35,
      "outputs": [
        {
          "output_type": "stream",
          "text": "Total ROC AUC: 0.914, F1 Score: 0.51327\n",
          "name": "stdout"
        }
      ]
    },
    {
      "metadata": {
        "trusted": true,
        "_uuid": "6c147aea567eccd3c2a677a9d1414ac2832a050b"
      },
      "cell_type": "code",
      "source": "X_proba = X_proba_folds[0]\nfor i in range(1, 9):\n    X_proba *= X_proba_folds[i]\nX_proba = np.power(X_proba, 1/10)",
      "execution_count": 36,
      "outputs": []
    },
    {
      "metadata": {
        "trusted": true,
        "_uuid": "7abbeddd655641406d9b3f78147447f39dc4be0d"
      },
      "cell_type": "code",
      "source": "score = roc_auc_score(y, X_proba)\nf1 = f1_score(y, [round(value) for value in X_proba])\nprint(\"Total ROC AUC: {:.3f}, F1 Score: {:.5f}\".format(score, f1))",
      "execution_count": 37,
      "outputs": [
        {
          "output_type": "stream",
          "text": "Total ROC AUC: 0.914, F1 Score: 0.51337\n",
          "name": "stdout"
        }
      ]
    },
    {
      "metadata": {
        "trusted": true,
        "_uuid": "b3aaf135e3e7d79fbb779c7a1f0db405c2ecbbbc"
      },
      "cell_type": "code",
      "source": "X_preds = np.zeros_like(y)\n\nfor i in range(10):\n    score_valid, best_th = scoring(y, X_proba_folds[i]) \n    X_preds += (X_proba_folds[i]>=best_th) * 1\n\nX_preds = (X_preds >= 5) * 1\nf1 = f1_score(y, X_preds)\nprint(\"F1 Score: {:.5f}\".format(f1))",
      "execution_count": 38,
      "outputs": [
        {
          "output_type": "stream",
          "text": "F1 Score: 0.53048\n",
          "name": "stdout"
        }
      ]
    },
    {
      "metadata": {
        "trusted": true,
        "_uuid": "d3ec76eac7159d3161bb4976e03d1b67e8003754"
      },
      "cell_type": "code",
      "source": "X_preds = (pd.DataFrame(X_preds_folds).T.apply(sum, axis=1) >= 5) * 1\nf1 = f1_score(y, X_preds)\nprint(\"F1 Score: {:.5f}\".format(f1))",
      "execution_count": 39,
      "outputs": [
        {
          "output_type": "stream",
          "text": "F1 Score: 0.53827\n",
          "name": "stdout"
        }
      ]
    },
    {
      "metadata": {
        "trusted": true,
        "_uuid": "c3c72594ba4de0386e53d15f4e3447de1011ec24"
      },
      "cell_type": "code",
      "source": "preds = (pd.DataFrame(preds_folds).T.apply(sum, axis=1) >= 5) * 1",
      "execution_count": 40,
      "outputs": []
    },
    {
      "metadata": {
        "trusted": true,
        "_uuid": "fb3169cd9260e3955c6c21ef6cf48449f7b83752"
      },
      "cell_type": "code",
      "source": "submission.is_promoted = preds\nsubmission.to_csv('submission.csv', index=False)",
      "execution_count": 41,
      "outputs": []
    }
  ],
  "metadata": {
    "kernelspec": {
      "display_name": "Python 3",
      "language": "python",
      "name": "python3"
    },
    "language_info": {
      "name": "python",
      "version": "3.6.6",
      "mimetype": "text/x-python",
      "codemirror_mode": {
        "name": "ipython",
        "version": 3
      },
      "pygments_lexer": "ipython3",
      "nbconvert_exporter": "python",
      "file_extension": ".py"
    }
  },
  "nbformat": 4,
  "nbformat_minor": 1
}