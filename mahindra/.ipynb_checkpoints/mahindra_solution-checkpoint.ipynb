{
 "cells": [
  {
   "cell_type": "markdown",
   "metadata": {},
   "source": [
    "# Problem Statement\n",
    "## Food & Beverages Spend Prediction in Club Mahindra Resorts\n",
    "Club Mahindra (Club M) makes significant revenue from Food and Beverages (F&B) sales in their resorts. The members of Club M are offered a wide variety of items in either buffet or À la carte form. Following are some benefits that the model to predict the spend by a member in their next visit to a resort will bring:\n",
    "1. Predicting the F&B spend of a member in a resort would help in improving the pre-sales during resort booking through web and mobile app\n",
    "2. Targeted campaigns to suit the member taste and preference of F&B\n",
    "3. Providing members in the resort with a customized experience and offers\n",
    "4. Help resort kitchen to plan the inventory and food quantity to be prepared in advance\n",
    "\n",
    "Given the information related to resort, club member, reservation etc. the task is to predict average spend per room night on food and beverages for the each reservation in the test set."
   ]
  },
  {
   "cell_type": "markdown",
   "metadata": {},
   "source": [
    "Imports"
   ]
  },
  {
   "cell_type": "code",
   "execution_count": 1,
   "metadata": {
    "_cell_guid": "b1076dfc-b9ad-4769-8c92-a6c4dae69d19",
    "_uuid": "8f2839f25d086af736a60e9eeb907d3b93b6e0e5"
   },
   "outputs": [
    {
     "name": "stdout",
     "output_type": "stream",
     "text": [
      "['sample_submission_dlc0jkw', 'test_jwt0mqh', 'train_5clrc8b']\n"
     ]
    }
   ],
   "source": [
    "import datetime\n",
    "import gc\n",
    "import os\n",
    "import re\n",
    "\n",
    "import numpy as np  # linear algebra\n",
    "import pandas as pd  # data processing, CSV file I/O (e.g. pd.read_csv)\n",
    "import pandas_profiling\n",
    "from catboost import CatBoostRegressor\n",
    "from lightgbm import LGBMRegressor\n",
    "from sklearn.linear_model import Ridge\n",
    "from sklearn.metrics import mean_squared_error\n",
    "from sklearn.model_selection import KFold, train_test_split\n",
    "from sklearn.preprocessing import LabelEncoder, MinMaxScaler, StandardScaler\n",
    "\n",
    "import fastai\n",
    "import matplotlib.pyplot as plt\n",
    "\n",
    "%matplotlib inline\n",
    "\n",
    "\n",
    "\n",
    "print(os.listdir(\"../input\"))"
   ]
  },
  {
   "cell_type": "markdown",
   "metadata": {
    "_cell_guid": "79c7e3d0-c299-4dcb-8224-4455121ee9b0",
    "_uuid": "d629ff2d2480ee46fbb7e2d37f6b5fab8052498a",
    "collapsed": true
   },
   "source": [
    "Load Data"
   ]
  },
  {
   "cell_type": "code",
   "execution_count": 2,
   "metadata": {},
   "outputs": [],
   "source": [
    "# define the date parser\n",
    "date_parser = lambda x: pd.datetime.strptime(x, \"%d/%m/%y\")"
   ]
  },
  {
   "cell_type": "code",
   "execution_count": 3,
   "metadata": {},
   "outputs": [
    {
     "name": "stdout",
     "output_type": "stream",
     "text": [
      "CPU times: user 22.4 s, sys: 756 ms, total: 23.1 s\n",
      "Wall time: 23.2 s\n"
     ]
    }
   ],
   "source": [
    "%%time\n",
    "train = pd.read_csv(\n",
    "    \"../input/train_5clrc8b/train.csv\",\n",
    "    parse_dates=[\"booking_date\", \"checkin_date\", \"checkout_date\"],\n",
    "    date_parser=date_parser,\n",
    ")\n",
    "test = pd.read_csv(\n",
    "    \"../input/test_jwt0mqh/test.csv\",\n",
    "    parse_dates=[\"booking_date\", \"checkin_date\", \"checkout_date\"],\n",
    "    date_parser=date_parser,\n",
    ")\n",
    "sample_submission = pd.read_csv(\n",
    "    \"../input/sample_submission_dlc0jkw/sample_submission.csv\"\n",
    ")"
   ]
  },
  {
   "cell_type": "markdown",
   "metadata": {},
   "source": [
    "## EDA"
   ]
  },
  {
   "cell_type": "code",
   "execution_count": 4,
   "metadata": {},
   "outputs": [
    {
     "data": {
      "text/html": [
       "<div>\n",
       "<style scoped>\n",
       "    .dataframe tbody tr th:only-of-type {\n",
       "        vertical-align: middle;\n",
       "    }\n",
       "\n",
       "    .dataframe tbody tr th {\n",
       "        vertical-align: top;\n",
       "    }\n",
       "\n",
       "    .dataframe thead th {\n",
       "        text-align: right;\n",
       "    }\n",
       "</style>\n",
       "<table border=\"1\" class=\"dataframe\">\n",
       "  <thead>\n",
       "    <tr style=\"text-align: right;\">\n",
       "      <th></th>\n",
       "      <th>reservation_id</th>\n",
       "      <th>booking_date</th>\n",
       "      <th>checkin_date</th>\n",
       "      <th>checkout_date</th>\n",
       "      <th>channel_code</th>\n",
       "      <th>main_product_code</th>\n",
       "      <th>numberofadults</th>\n",
       "      <th>numberofchildren</th>\n",
       "      <th>persontravellingid</th>\n",
       "      <th>resort_region_code</th>\n",
       "      <th>resort_type_code</th>\n",
       "      <th>room_type_booked_code</th>\n",
       "      <th>roomnights</th>\n",
       "      <th>season_holidayed_code</th>\n",
       "      <th>state_code_residence</th>\n",
       "      <th>state_code_resort</th>\n",
       "      <th>total_pax</th>\n",
       "      <th>member_age_buckets</th>\n",
       "      <th>booking_type_code</th>\n",
       "      <th>memberid</th>\n",
       "      <th>cluster_code</th>\n",
       "      <th>reservationstatusid_code</th>\n",
       "      <th>resort_id</th>\n",
       "      <th>amount_spent_per_room_night_scaled</th>\n",
       "    </tr>\n",
       "  </thead>\n",
       "  <tbody>\n",
       "    <tr>\n",
       "      <th>0</th>\n",
       "      <td>07659f3758d8aee27f5a7e2887adeacb67021cb95ada1b...</td>\n",
       "      <td>2018-04-05</td>\n",
       "      <td>2018-04-05</td>\n",
       "      <td>2018-04-06</td>\n",
       "      <td>3</td>\n",
       "      <td>1</td>\n",
       "      <td>2</td>\n",
       "      <td>0</td>\n",
       "      <td>46</td>\n",
       "      <td>3</td>\n",
       "      <td>3</td>\n",
       "      <td>3</td>\n",
       "      <td>1</td>\n",
       "      <td>2.0</td>\n",
       "      <td>7.0</td>\n",
       "      <td>3</td>\n",
       "      <td>3</td>\n",
       "      <td>F</td>\n",
       "      <td>1</td>\n",
       "      <td>3d1539e56495b6991f0a3ef5a61ca3d03ce4fff7380e9a...</td>\n",
       "      <td>F</td>\n",
       "      <td>C</td>\n",
       "      <td>4e07408562bedb8b60ce05c1decfe3ad16b72230967de0...</td>\n",
       "      <td>7.706428</td>\n",
       "    </tr>\n",
       "    <tr>\n",
       "      <th>1</th>\n",
       "      <td>03930f033646d073462b35d411616323597715ac4fc398...</td>\n",
       "      <td>2015-01-23</td>\n",
       "      <td>2015-04-11</td>\n",
       "      <td>2015-04-16</td>\n",
       "      <td>1</td>\n",
       "      <td>1</td>\n",
       "      <td>2</td>\n",
       "      <td>0</td>\n",
       "      <td>46</td>\n",
       "      <td>3</td>\n",
       "      <td>3</td>\n",
       "      <td>4</td>\n",
       "      <td>5</td>\n",
       "      <td>2.0</td>\n",
       "      <td>7.0</td>\n",
       "      <td>5</td>\n",
       "      <td>2</td>\n",
       "      <td>F</td>\n",
       "      <td>1</td>\n",
       "      <td>3d1539e56495b6991f0a3ef5a61ca3d03ce4fff7380e9a...</td>\n",
       "      <td>F</td>\n",
       "      <td>A</td>\n",
       "      <td>39fa9ec190eee7b6f4dff1100d6343e10918d044c75eac...</td>\n",
       "      <td>6.662563</td>\n",
       "    </tr>\n",
       "    <tr>\n",
       "      <th>2</th>\n",
       "      <td>d145a32920e6587ad95bfe299d80c0affa268220535aaf...</td>\n",
       "      <td>2015-01-28</td>\n",
       "      <td>2015-02-01</td>\n",
       "      <td>2015-02-05</td>\n",
       "      <td>1</td>\n",
       "      <td>1</td>\n",
       "      <td>2</td>\n",
       "      <td>0</td>\n",
       "      <td>47</td>\n",
       "      <td>1</td>\n",
       "      <td>5</td>\n",
       "      <td>4</td>\n",
       "      <td>4</td>\n",
       "      <td>2.0</td>\n",
       "      <td>7.0</td>\n",
       "      <td>1</td>\n",
       "      <td>2</td>\n",
       "      <td>F</td>\n",
       "      <td>1</td>\n",
       "      <td>3d1539e56495b6991f0a3ef5a61ca3d03ce4fff7380e9a...</td>\n",
       "      <td>E</td>\n",
       "      <td>A</td>\n",
       "      <td>535fa30d7e25dd8a49f1536779734ec8286108d115da50...</td>\n",
       "      <td>7.871602</td>\n",
       "    </tr>\n",
       "    <tr>\n",
       "      <th>3</th>\n",
       "      <td>cfd77f44811ed62f25a220b53324cdbafc662a4c9e5f04...</td>\n",
       "      <td>2015-05-02</td>\n",
       "      <td>2015-06-11</td>\n",
       "      <td>2015-06-16</td>\n",
       "      <td>1</td>\n",
       "      <td>1</td>\n",
       "      <td>2</td>\n",
       "      <td>2</td>\n",
       "      <td>46</td>\n",
       "      <td>2</td>\n",
       "      <td>2</td>\n",
       "      <td>3</td>\n",
       "      <td>5</td>\n",
       "      <td>2.0</td>\n",
       "      <td>7.0</td>\n",
       "      <td>2</td>\n",
       "      <td>2</td>\n",
       "      <td>F</td>\n",
       "      <td>1</td>\n",
       "      <td>3d1539e56495b6991f0a3ef5a61ca3d03ce4fff7380e9a...</td>\n",
       "      <td>D</td>\n",
       "      <td>A</td>\n",
       "      <td>d4735e3a265e16eee03f59718b9b5d03019c07d8b6c51f...</td>\n",
       "      <td>5.344943</td>\n",
       "    </tr>\n",
       "    <tr>\n",
       "      <th>4</th>\n",
       "      <td>937cff9e4dcfc2459620153dfc8b9962ac22bea67dfb29...</td>\n",
       "      <td>2015-09-02</td>\n",
       "      <td>2015-12-14</td>\n",
       "      <td>2015-12-19</td>\n",
       "      <td>1</td>\n",
       "      <td>1</td>\n",
       "      <td>2</td>\n",
       "      <td>0</td>\n",
       "      <td>46</td>\n",
       "      <td>2</td>\n",
       "      <td>2</td>\n",
       "      <td>4</td>\n",
       "      <td>5</td>\n",
       "      <td>2.0</td>\n",
       "      <td>7.0</td>\n",
       "      <td>2</td>\n",
       "      <td>2</td>\n",
       "      <td>F</td>\n",
       "      <td>1</td>\n",
       "      <td>3d1539e56495b6991f0a3ef5a61ca3d03ce4fff7380e9a...</td>\n",
       "      <td>D</td>\n",
       "      <td>A</td>\n",
       "      <td>d4735e3a265e16eee03f59718b9b5d03019c07d8b6c51f...</td>\n",
       "      <td>7.059346</td>\n",
       "    </tr>\n",
       "  </tbody>\n",
       "</table>\n",
       "</div>"
      ],
      "text/plain": [
       "                                      reservation_id                ...                 amount_spent_per_room_night_scaled\n",
       "0  07659f3758d8aee27f5a7e2887adeacb67021cb95ada1b...                ...                                           7.706428\n",
       "1  03930f033646d073462b35d411616323597715ac4fc398...                ...                                           6.662563\n",
       "2  d145a32920e6587ad95bfe299d80c0affa268220535aaf...                ...                                           7.871602\n",
       "3  cfd77f44811ed62f25a220b53324cdbafc662a4c9e5f04...                ...                                           5.344943\n",
       "4  937cff9e4dcfc2459620153dfc8b9962ac22bea67dfb29...                ...                                           7.059346\n",
       "\n",
       "[5 rows x 24 columns]"
      ]
     },
     "execution_count": 4,
     "metadata": {},
     "output_type": "execute_result"
    }
   ],
   "source": [
    "# Take a glimpse at first 5 rows of the dataframe\n",
    "train.head()"
   ]
  },
  {
   "cell_type": "code",
   "execution_count": 5,
   "metadata": {},
   "outputs": [
    {
     "name": "stdout",
     "output_type": "stream",
     "text": [
      "Train shape: (341424, 24) \n",
      "Test shape:(146765, 23)\n"
     ]
    }
   ],
   "source": [
    "print(f\"Train shape: {train.shape} \\nTest shape:{test.shape}\")"
   ]
  },
  {
   "cell_type": "markdown",
   "metadata": {},
   "source": [
    "Pandas profiling report"
   ]
  },
  {
   "cell_type": "code",
   "execution_count": 6,
   "metadata": {},
   "outputs": [],
   "source": [
    "#%%time\n",
    "#pandas_profiling.ProfileReport(train)"
   ]
  },
  {
   "cell_type": "code",
   "execution_count": 7,
   "metadata": {},
   "outputs": [
    {
     "data": {
      "image/png": "[encoded data removed]",
      "text/plain": [
       "<Figure size 432x288 with 1 Axes>"
      ]
     },
     "metadata": {},
     "output_type": "display_data"
    }
   ],
   "source": [
    "# Print the value counts by dates, groupped to weeks for better visualization\n",
    "test.booking_date.value_counts().sort_values().asfreq(\"W\").plot.line(\n",
    "    color=\"red\", alpha=0.5\n",
    ")\n",
    "train.booking_date.value_counts().sort_values().asfreq(\"W\").plot.line(\n",
    "    color=\"blue\", alpha=0.5\n",
    ")"
   ]
  },
  {
   "cell_type": "markdown",
   "metadata": {},
   "source": [
    "## Feature Engineering"
   ]
  },
  {
   "cell_type": "code",
   "execution_count": 8,
   "metadata": {},
   "outputs": [
    {
     "data": {
      "text/plain": [
       "state_code_residence     0.013953\n",
       "season_holidayed_code    0.000334\n",
       "dtype: float64"
      ]
     },
     "execution_count": 8,
     "metadata": {},
     "output_type": "execute_result"
    }
   ],
   "source": [
    "train.isna().sum().sort_values(ascending=False)[\n",
    "    train.isna().sum().sort_values(ascending=False) != 0\n",
    "] / len(train)"
   ]
  },
  {
   "cell_type": "code",
   "execution_count": 9,
   "metadata": {},
   "outputs": [
    {
     "data": {
      "text/plain": [
       "state_code_residence     0.015399\n",
       "season_holidayed_code    0.000238\n",
       "dtype: float64"
      ]
     },
     "execution_count": 9,
     "metadata": {},
     "output_type": "execute_result"
    }
   ],
   "source": [
    "test.isna().sum().sort_values(ascending=False)[\n",
    "    test.isna().sum().sort_values(ascending=False) != 0\n",
    "] / len(test)"
   ]
  },
  {
   "cell_type": "code",
   "execution_count": 10,
   "metadata": {},
   "outputs": [],
   "source": [
    "train.fillna(-999, inplace=True)\n",
    "test.fillna(-999, inplace=True)"
   ]
  },
  {
   "cell_type": "code",
   "execution_count": 11,
   "metadata": {},
   "outputs": [
    {
     "name": "stdout",
     "output_type": "stream",
     "text": [
      "(488189, 24)\n"
     ]
    }
   ],
   "source": [
    "# Concatenate the train and test to one dataframe for further processing\n",
    "df = pd.concat([train, test], sort=False)\n",
    "\n",
    "print(df.shape)"
   ]
  },
  {
   "cell_type": "code",
   "execution_count": 12,
   "metadata": {},
   "outputs": [],
   "source": [
    "# Find the categorical features\n",
    "cat_cols = list(train.dtypes[train.dtypes == \"object\"].index)\n",
    "cat_cols += [\n",
    "    \"main_product_code\",\n",
    "    \"persontravellingid\",\n",
    "    \"resort_region_code\",\n",
    "    \"channel_code\",\n",
    "    \"resort_type_code\",\n",
    "    \"state_code_residence\",\n",
    "    \"booking_type_code\",\n",
    "    \"season_holidayed_code\",\n",
    "    \"state_code_resort\",\n",
    "    \"room_type_booked_code\",\n",
    "]\n",
    "\n",
    "# Convert selected columns to categories\n",
    "df.loc[:, cat_cols] = df.loc[:, cat_cols].astype(\"category\")"
   ]
  },
  {
   "cell_type": "code",
   "execution_count": 13,
   "metadata": {},
   "outputs": [],
   "source": [
    "# New features\n",
    "df[\"home_state\"] = df[\"state_code_residence\"].astype(int) == df[\n",
    "    \"state_code_resort\"\n",
    "].astype(int)\n",
    "df[\"family_number\"] = df[\"numberofadults\"] + df[\"numberofchildren\"]"
   ]
  },
  {
   "cell_type": "code",
   "execution_count": 14,
   "metadata": {},
   "outputs": [
    {
     "data": {
      "text/plain": [
       "home_state                                      bool\n",
       "reservation_id                              category\n",
       "booking_type_code                           category\n",
       "member_age_buckets                          category\n",
       "reservationstatusid_code                    category\n",
       "state_code_resort                           category\n",
       "state_code_residence                        category\n",
       "season_holidayed_code                       category\n",
       "room_type_booked_code                       category\n",
       "memberid                                    category\n",
       "resort_type_code                            category\n",
       "persontravellingid                          category\n",
       "resort_id                                   category\n",
       "main_product_code                           category\n",
       "channel_code                                category\n",
       "resort_region_code                          category\n",
       "cluster_code                                category\n",
       "checkout_date                         datetime64[ns]\n",
       "checkin_date                          datetime64[ns]\n",
       "booking_date                          datetime64[ns]\n",
       "amount_spent_per_room_night_scaled           float64\n",
       "roomnights                                     int64\n",
       "numberofchildren                               int64\n",
       "numberofadults                                 int64\n",
       "total_pax                                      int64\n",
       "family_number                                  int64\n",
       "dtype: object"
      ]
     },
     "execution_count": 14,
     "metadata": {},
     "output_type": "execute_result"
    }
   ],
   "source": [
    "# Check the data types of the featuers\n",
    "df.dtypes.astype(\"str\").sort_values()"
   ]
  },
  {
   "cell_type": "code",
   "execution_count": 15,
   "metadata": {},
   "outputs": [
    {
     "name": "stderr",
     "output_type": "stream",
     "text": [
      "/opt/conda/lib/python3.6/site-packages/ipykernel_launcher.py:2: RuntimeWarning: invalid value encountered in log1p\n",
      "  \n"
     ]
    }
   ],
   "source": [
    "num_cols = [\n",
    "    \"roomnights\",\n",
    "    \"numberofchildren\",\n",
    "    \"numberofadults\",\n",
    "    \"total_pax\",\n",
    "    \"family_number\",\n",
    "]\n",
    "df[num_cols] = np.log1p(df[num_cols])"
   ]
  },
  {
   "cell_type": "code",
   "execution_count": 16,
   "metadata": {},
   "outputs": [],
   "source": [
    "# The secret weapon from https://github.com/fastai/fastai/blob/master/old/fastai/structured.py\n",
    "def add_datepart(df, fldname, drop=True, time=False, errors=\"raise\"):\n",
    "    \"\"\"add_datepart converts a column of df from a datetime64 to many columns containing\n",
    "    the information from the date. This applies changes inplace.\n",
    "    Parameters:\n",
    "    -----------\n",
    "    df: A pandas data frame. df gain several new columns.\n",
    "    fldname: A string that is the name of the date column you wish to expand.\n",
    "        If it is not a datetime64 series, it will be converted to one with pd.to_datetime.\n",
    "    drop: If true then the original date column will be removed.\n",
    "    time: If true time features: Hour, Minute, Second will be added.\n",
    "    Examples:\n",
    "    ---------\n",
    "    >>> df = pd.DataFrame({ 'A' : pd.to_datetime(['3/11/2000', '3/12/2000', '3/13/2000'], infer_datetime_format=False) })\n",
    "    >>> df\n",
    "        A\n",
    "    0   2000-03-11\n",
    "    1   2000-03-12\n",
    "    2   2000-03-13\n",
    "    >>> add_datepart(df, 'A')\n",
    "    >>> df\n",
    "        AYear AMonth AWeek ADay ADayofweek ADayofyear AIs_month_end AIs_month_start AIs_quarter_end AIs_quarter_start AIs_year_end AIs_year_start AElapsed\n",
    "    0   2000  3      10    11   5          71         False         False           False           False             False        False          952732800\n",
    "    1   2000  3      10    12   6          72         False         False           False           False             False        False          952819200\n",
    "    2   2000  3      11    13   0          73         False         False           False           False             False        False          952905600\n",
    "    \"\"\"\n",
    "    fld = df[fldname]\n",
    "    fld_dtype = fld.dtype\n",
    "    if isinstance(fld_dtype, pd.core.dtypes.dtypes.DatetimeTZDtype):\n",
    "        fld_dtype = np.datetime64\n",
    "\n",
    "    if not np.issubdtype(fld_dtype, np.datetime64):\n",
    "        df[fldname] = fld = pd.to_datetime(\n",
    "            fld, infer_datetime_format=True, errors=errors\n",
    "        )\n",
    "    targ_pre = re.sub(\"[Dd]ate$\", \"\", fldname)\n",
    "    attr = [\n",
    "        \"Year\",\n",
    "        \"Month\",\n",
    "        \"Week\",\n",
    "        \"Day\",\n",
    "        \"Dayofweek\",\n",
    "        \"Dayofyear\",\n",
    "        \"Is_month_end\",\n",
    "        \"Is_month_start\",\n",
    "        \"Is_quarter_end\",\n",
    "        \"Is_quarter_start\",\n",
    "        \"Is_year_end\",\n",
    "        \"Is_year_start\",\n",
    "    ]\n",
    "    if time:\n",
    "        attr = attr + [\"Hour\", \"Minute\", \"Second\"]\n",
    "    for n in attr:\n",
    "        df[targ_pre + n] = getattr(fld.dt, n.lower())\n",
    "    df[targ_pre + \"Elapsed\"] = fld.astype(np.int64) // 10 ** 9\n",
    "    if drop:\n",
    "        df.drop(fldname, axis=1, inplace=True)"
   ]
  },
  {
   "cell_type": "code",
   "execution_count": 17,
   "metadata": {},
   "outputs": [],
   "source": [
    "# Apply add_datepart function to datetime features\n",
    "for col in [\"checkout_date\", \"checkin_date\", \"booking_date\"]:\n",
    "    add_datepart(df, col, drop=False)"
   ]
  },
  {
   "cell_type": "code",
   "execution_count": 18,
   "metadata": {},
   "outputs": [],
   "source": [
    "# New feature days staying in the hotel\n",
    "df[\"days_stay\"] = df[\"checkout_date\"] - df[\"checkin_date\"]\n",
    "\n",
    "# New feature days from booking to checkin date\n",
    "df[\"days_wait\"] = df[\"checkin_date\"] - df[\"booking_date\"]\n",
    "\n",
    "# fix some inconsistencies in the data\n",
    "df.loc[df[\"days_wait\"].astype(int) < 0, \"checkout_date\"] = df[\"checkout_date\"][\n",
    "    df[\"days_wait\"].astype(int) < 0\n",
    "].apply(lambda x: x.replace(year=2018))\n",
    "df.loc[df[\"days_wait\"].astype(int) < 0, \"checkin_date\"] = df[\"checkin_date\"][\n",
    "    df[\"days_wait\"].astype(int) < 0\n",
    "].apply(lambda x: x.replace(year=2018))\n",
    "\n",
    "df[\"days_wait\"] = df[\"checkin_date\"] - df[\"booking_date\"]\n",
    "df.loc[df[\"days_wait\"].astype(int) < 0, \"days_wait\"] = datetime.timedelta(0)\n",
    "df[[\"days_stay\", \"days_wait\"]] = df[[\"days_stay\", \"days_wait\"]].astype(int)"
   ]
  },
  {
   "cell_type": "markdown",
   "metadata": {},
   "source": [
    "Label Encoding"
   ]
  },
  {
   "cell_type": "code",
   "execution_count": 19,
   "metadata": {},
   "outputs": [],
   "source": [
    "le = LabelEncoder()\n",
    "for col in cat_cols:\n",
    "    df[col] = le.fit_transform(df[col])"
   ]
  },
  {
   "cell_type": "code",
   "execution_count": 20,
   "metadata": {},
   "outputs": [],
   "source": [
    "df[\"total_pax_vs_family_number\"] = df.total_pax - df.family_number\n",
    "df[\"children_ratio\"] = df.family_number / df.numberofchildren"
   ]
  },
  {
   "cell_type": "code",
   "execution_count": 21,
   "metadata": {},
   "outputs": [],
   "source": [
    "num_cols += [\"days_stay\", \"days_wait\"]"
   ]
  },
  {
   "cell_type": "code",
   "execution_count": 22,
   "metadata": {},
   "outputs": [],
   "source": [
    "from sklearn.preprocessing import PolynomialFeatures\n",
    "\n",
    "pf = PolynomialFeatures(degree=2, interaction_only=False, include_bias=False)\n",
    "poly_df = pd.DataFrame(pf.fit_transform(df[num_cols].fillna(0)))"
   ]
  },
  {
   "cell_type": "code",
   "execution_count": 23,
   "metadata": {},
   "outputs": [],
   "source": [
    "df2 = pd.concat([df.reset_index(drop=True), poly_df], axis=1)"
   ]
  },
  {
   "cell_type": "code",
   "execution_count": 24,
   "metadata": {},
   "outputs": [],
   "source": [
    "# Columns we will not need for training\n",
    "drop_cols = [\n",
    "    \"reservation_id\",\n",
    "    \"amount_spent_per_room_night_scaled\",\n",
    "    \"checkout_date\",\n",
    "    \"checkin_date\",\n",
    "    \"booking_date\",\n",
    "    \"memberid\",\n",
    "]"
   ]
  },
  {
   "cell_type": "markdown",
   "metadata": {},
   "source": [
    "## Model training"
   ]
  },
  {
   "cell_type": "code",
   "execution_count": 25,
   "metadata": {},
   "outputs": [],
   "source": [
    "X_total = df2[~df2.amount_spent_per_room_night_scaled.isna()].drop(drop_cols, axis=1)\n",
    "y_total = df2[\n",
    "    ~df2.amount_spent_per_room_night_scaled.isna()\n",
    "].amount_spent_per_room_night_scaled.values\n",
    "\n",
    "X_test = df2[df2.amount_spent_per_room_night_scaled.isna()].drop(drop_cols, axis=1)"
   ]
  },
  {
   "cell_type": "code",
   "execution_count": 26,
   "metadata": {},
   "outputs": [],
   "source": [
    "cat_cols = [c for c in cat_cols if c in X_total.columns]"
   ]
  },
  {
   "cell_type": "code",
   "execution_count": 27,
   "metadata": {},
   "outputs": [],
   "source": [
    "binary = list(df.nunique().index[df.nunique() == 2])"
   ]
  },
  {
   "cell_type": "code",
   "execution_count": 28,
   "metadata": {},
   "outputs": [],
   "source": [
    "cat_cols += binary\n",
    "cat_cols = list(set(cat_cols))"
   ]
  },
  {
   "cell_type": "code",
   "execution_count": 29,
   "metadata": {},
   "outputs": [],
   "source": [
    "# Prepare Categorical Variables\n",
    "def column_index(df, query_cols):\n",
    "    cols = df.columns.values.astype(str)\n",
    "    sidx = np.argsort(cols)\n",
    "    return sidx[np.searchsorted(cols, query_cols, sorter=sidx)]\n",
    "\n",
    "\n",
    "cat_feats_pos = column_index(X_total, cat_cols)"
   ]
  },
  {
   "cell_type": "code",
   "execution_count": 30,
   "metadata": {},
   "outputs": [],
   "source": [
    "X_train, X_valid, y_train, y_valid = train_test_split(\n",
    "    X_total, y_total, shuffle=True, random_state=42, test_size=0.2\n",
    ")"
   ]
  },
  {
   "cell_type": "code",
   "execution_count": 31,
   "metadata": {},
   "outputs": [],
   "source": [
    "model_ctb = CatBoostRegressor(iterations=5000, learning_rate=0.05)\n",
    "model_lgb = LGBMRegressor(\n",
    "    learning_rate=0.05,\n",
    "    n_estimators=5000,\n",
    "    random_state=42,\n",
    "    subsample=0.8,\n",
    "    reg_alpha=1,\n",
    "    reg_labmda=1,\n",
    "    colsample_bytree=0.8,\n",
    ")"
   ]
  },
  {
   "cell_type": "code",
   "execution_count": 32,
   "metadata": {},
   "outputs": [],
   "source": [
    "# GBDT withStratified KFold\n",
    "def kfold_gbm(\n",
    "    train_df,\n",
    "    test_df,\n",
    "    y_total,\n",
    "    clf,\n",
    "    num_folds=5,\n",
    "    stratified=False,\n",
    "    debug=False,\n",
    "    random_state=42,\n",
    "    feature_importance=False,\n",
    "):\n",
    "    clf_name = type(clf).__name__\n",
    "    print(\n",
    "        f\"Starting {clf_name}. Train shape: {train_df.shape}, test shape: {test_df.shape}\"\n",
    "    )\n",
    "\n",
    "    # Cross validation model\n",
    "    if stratified:\n",
    "        folds = StratifiedKFold(\n",
    "            n_splits=num_folds, shuffle=True, random_state=random_state\n",
    "        )\n",
    "    else:\n",
    "        folds = KFold(n_splits=num_folds, shuffle=True, random_state=random_state)\n",
    "\n",
    "    # Create arrays and dataframes to store results\n",
    "    oof_preds = np.zeros(train_df.shape[0])\n",
    "    sub_preds = np.zeros(test_df.shape[0])\n",
    "    feature_importance_df = pd.DataFrame()\n",
    "\n",
    "    for n_fold, (train_idx, valid_idx) in enumerate(folds.split(train_df, y_total)):\n",
    "        train_x, train_y = train_df.iloc[train_idx, :], y_total[train_idx]\n",
    "        valid_x, valid_y = train_df.iloc[valid_idx, :], y_total[valid_idx]\n",
    "\n",
    "        # GBM\n",
    "        if clf_name in [\"CatBoostRegressor\", \"XGBRegressor\"]:\n",
    "            clf.fit(\n",
    "                train_x,\n",
    "                train_y,\n",
    "                eval_set=[(train_x, train_y), (valid_x, valid_y)],\n",
    "                verbose=100,\n",
    "                early_stopping_rounds=200,\n",
    "            )\n",
    "\n",
    "        elif clf_name in [\"LGBMRegressor\"]:\n",
    "            clf.fit(\n",
    "                train_x,\n",
    "                train_y,\n",
    "                eval_set=[(train_x, train_y), (valid_x, valid_y)],\n",
    "                verbose=100,\n",
    "                early_stopping_rounds=200,\n",
    "                eval_metric=\"rmse\",\n",
    "            )\n",
    "        # sklearn\n",
    "        else:\n",
    "            clf.fit(train_x, train_y)\n",
    "\n",
    "        if clf_name == \"LGBMRegressor\":\n",
    "            oof_preds[valid_idx] = clf.predict(\n",
    "                valid_x, num_iteration=clf.best_iteration_\n",
    "            )\n",
    "            sub_preds += (\n",
    "                clf.predict(test_df, num_iteration=clf.best_iteration_) / folds.n_splits\n",
    "            )\n",
    "        elif clf_name == \"CatBoostRegressor\":\n",
    "            oof_preds[valid_idx] = clf.predict(valid_x)\n",
    "            sub_preds += clf.predict(test_df) / folds.n_splits\n",
    "        elif clf_name == \"XGBRegressor\":\n",
    "            oof_preds[valid_idx] = clf.predict(\n",
    "                valid_x, ntree_limit=clf.best_ntree_limit\n",
    "            )\n",
    "            sub_preds += (\n",
    "                clf.predict(test_df, ntree_limit=clf.best_ntree_limit) / folds.n_splits\n",
    "            )\n",
    "        else:\n",
    "            oof_preds[valid_idx] = clf.predict(valid_x)\n",
    "            sub_preds += clf.predict(test_df) / folds.n_splits\n",
    "\n",
    "        if feature_importance:\n",
    "            fold_importance_df = pd.DataFrame()\n",
    "            fold_importance_df[\"feature\"] = feats\n",
    "            fold_importance_df[\"importance\"] = clf.feature_importances_\n",
    "            fold_importance_df[\"fold\"] = n_fold + 1\n",
    "            feature_importance_df = pd.concat(\n",
    "                [feature_importance_df, fold_importance_df], axis=0\n",
    "            )\n",
    "\n",
    "        print(\n",
    "            \"Fold %2d Score : %.6f\"\n",
    "            % (n_fold + 1, np.sqrt(mean_squared_error(valid_y, oof_preds[valid_idx])))\n",
    "        )\n",
    "        del train_x, train_y, valid_x, valid_y\n",
    "        gc.collect()\n",
    "\n",
    "    full_score = np.sqrt(mean_squared_error(y_total, oof_preds))\n",
    "    print(\"Full Score %.6f \\n\\n\" % full_score)\n",
    "\n",
    "    # Write submission file and plot feature importance\n",
    "    if not debug:\n",
    "        sample_submission[\"amount_spent_per_room_night_scaled\"] = sub_preds\n",
    "        sample_submission.to_csv(\n",
    "            f\"submission_kernel_{clf_name}_{full_score:.4f}.csv\", index=False\n",
    "        )\n",
    "\n",
    "    if feature_importance:\n",
    "        display_importances(feature_importance_df)\n",
    "        return oof_preds, sub_preds, feature_importance_df\n",
    "    else:\n",
    "        return oof_preds, sub_preds"
   ]
  },
  {
   "cell_type": "code",
   "execution_count": 33,
   "metadata": {},
   "outputs": [],
   "source": [
    "models = [model_ctb, model_lgb]"
   ]
  },
  {
   "cell_type": "code",
   "execution_count": 34,
   "metadata": {},
   "outputs": [],
   "source": [
    "def stacker_n_blender(\n",
    "    X_train=X_total, X_test=X_test, y=y_total, models=models, seed=42, debug=False\n",
    "):\n",
    "    np.random.seed(42)\n",
    "    X_train_meta = 0.03 * np.random.randn(X_train.shape[0], len(models))\n",
    "    X_test_meta = np.zeros((X_test.shape[0], len(models)))\n",
    "\n",
    "    for t, model in enumerate(models):\n",
    "        oof_preds, sub_preds = kfold_gbm(\n",
    "            X_train, X_test, y_total, clf=model, random_state=42, debug=debug\n",
    "        )\n",
    "        if debug:\n",
    "            print(\n",
    "                f\"{type(model).__name__} Score: {roc_auc_score(y_valid, sub_preds):.4f}\\n\"\n",
    "            )\n",
    "        X_train_meta[:, t] += oof_preds\n",
    "        X_test_meta[:, t] = sub_preds\n",
    "\n",
    "        del model\n",
    "        gc.collect()\n",
    "\n",
    "    ens_model = Ridge(0.001).fit(X_train_meta, y.reshape(-1, 1))\n",
    "    stack = ens_model.predict(X_test_meta)\n",
    "    blend = X_test_meta.mean(axis=1)\n",
    "\n",
    "    return stack, blend"
   ]
  },
  {
   "cell_type": "code",
   "execution_count": 35,
   "metadata": {},
   "outputs": [
    {
     "name": "stdout",
     "output_type": "stream",
     "text": [
      "Starting CatBoostRegressor. Train shape: (341424, 98), test shape: (146765, 98)\n",
      "0:\tlearn: 7.4143422\ttest: 7.4143422\ttest1: 7.4196166\tbest: 7.4196166 (0)\ttotal: 141ms\tremaining: 11m 47s\n",
      "100:\tlearn: 0.9963294\ttest: 0.9963294\ttest1: 0.9976218\tbest: 0.9976218 (100)\ttotal: 13.5s\tremaining: 10m 57s\n",
      "200:\tlearn: 0.9841233\ttest: 0.9841233\ttest1: 0.9865393\tbest: 0.9865393 (200)\ttotal: 26.1s\tremaining: 10m 23s\n",
      "300:\tlearn: 0.9798819\ttest: 0.9798819\ttest1: 0.9836310\tbest: 0.9836310 (300)\ttotal: 38.6s\tremaining: 10m 1s\n",
      "400:\tlearn: 0.9770036\ttest: 0.9770036\ttest1: 0.9821343\tbest: 0.9821343 (400)\ttotal: 50.3s\tremaining: 9m 36s\n",
      "500:\tlearn: 0.9747318\ttest: 0.9747318\ttest1: 0.9813700\tbest: 0.9813700 (500)\ttotal: 1m 1s\tremaining: 9m 15s\n",
      "600:\tlearn: 0.9728697\ttest: 0.9728697\ttest1: 0.9808102\tbest: 0.9808102 (600)\ttotal: 1m 13s\tremaining: 8m 57s\n",
      "700:\tlearn: 0.9712329\ttest: 0.9712329\ttest1: 0.9803825\tbest: 0.9803825 (700)\ttotal: 1m 24s\tremaining: 8m 41s\n",
      "800:\tlearn: 0.9696362\ttest: 0.9696362\ttest1: 0.9801142\tbest: 0.9801028 (797)\ttotal: 1m 36s\tremaining: 8m 27s\n",
      "900:\tlearn: 0.9681473\ttest: 0.9681473\ttest1: 0.9798296\tbest: 0.9798296 (900)\ttotal: 1m 48s\tremaining: 8m 14s\n",
      "1000:\tlearn: 0.9666983\ttest: 0.9666983\ttest1: 0.9795472\tbest: 0.9795472 (1000)\ttotal: 2m\tremaining: 8m 1s\n",
      "1100:\tlearn: 0.9654050\ttest: 0.9654050\ttest1: 0.9794376\tbest: 0.9794374 (1092)\ttotal: 2m 12s\tremaining: 7m 48s\n",
      "1200:\tlearn: 0.9641053\ttest: 0.9641053\ttest1: 0.9792974\tbest: 0.9792918 (1198)\ttotal: 2m 24s\tremaining: 7m 35s\n",
      "1300:\tlearn: 0.9628781\ttest: 0.9628781\ttest1: 0.9791802\tbest: 0.9791794 (1299)\ttotal: 2m 35s\tremaining: 7m 22s\n",
      "1400:\tlearn: 0.9617477\ttest: 0.9617477\ttest1: 0.9791516\tbest: 0.9791310 (1372)\ttotal: 2m 47s\tremaining: 7m 9s\n",
      "1500:\tlearn: 0.9605178\ttest: 0.9605178\ttest1: 0.9791083\tbest: 0.9790791 (1478)\ttotal: 2m 59s\tremaining: 6m 57s\n",
      "1600:\tlearn: 0.9593491\ttest: 0.9593491\ttest1: 0.9790547\tbest: 0.9790547 (1600)\ttotal: 3m 11s\tremaining: 6m 45s\n",
      "1700:\tlearn: 0.9581596\ttest: 0.9581596\ttest1: 0.9790072\tbest: 0.9790005 (1698)\ttotal: 3m 23s\tremaining: 6m 33s\n",
      "1800:\tlearn: 0.9569520\ttest: 0.9569520\ttest1: 0.9790243\tbest: 0.9789948 (1745)\ttotal: 3m 35s\tremaining: 6m 22s\n",
      "1900:\tlearn: 0.9558869\ttest: 0.9558869\ttest1: 0.9790409\tbest: 0.9789948 (1745)\ttotal: 3m 47s\tremaining: 6m 10s\n",
      "Stopped by overfitting detector  (200 iterations wait)\n",
      "\n",
      "bestTest = 0.9789947844\n",
      "bestIteration = 1745\n",
      "\n",
      "Shrink model to first 1746 iterations.\n",
      "Fold  1 Score : 0.978995\n",
      "0:\tlearn: 7.4155496\ttest: 7.4155496\ttest1: 7.4144514\tbest: 7.4144514 (0)\ttotal: 104ms\tremaining: 8m 39s\n",
      "100:\tlearn: 0.9965702\ttest: 0.9965702\ttest1: 0.9970433\tbest: 0.9970433 (100)\ttotal: 13.9s\tremaining: 11m 14s\n",
      "200:\tlearn: 0.9841773\ttest: 0.9841773\ttest1: 0.9855274\tbest: 0.9855274 (200)\ttotal: 26.6s\tremaining: 10m 34s\n",
      "300:\tlearn: 0.9799511\ttest: 0.9799511\ttest1: 0.9825701\tbest: 0.9825701 (300)\ttotal: 38.6s\tremaining: 10m 3s\n",
      "400:\tlearn: 0.9771479\ttest: 0.9771479\ttest1: 0.9812627\tbest: 0.9812610 (399)\ttotal: 50.3s\tremaining: 9m 37s\n",
      "500:\tlearn: 0.9748569\ttest: 0.9748569\ttest1: 0.9803546\tbest: 0.9803515 (499)\ttotal: 1m 2s\tremaining: 9m 18s\n",
      "600:\tlearn: 0.9729632\ttest: 0.9729632\ttest1: 0.9798489\tbest: 0.9798489 (600)\ttotal: 1m 13s\tremaining: 9m\n",
      "700:\tlearn: 0.9712627\ttest: 0.9712627\ttest1: 0.9794735\tbest: 0.9794635 (696)\ttotal: 1m 25s\tremaining: 8m 45s\n",
      "800:\tlearn: 0.9696653\ttest: 0.9696653\ttest1: 0.9791417\tbest: 0.9791417 (800)\ttotal: 1m 38s\tremaining: 8m 34s\n",
      "900:\tlearn: 0.9681019\ttest: 0.9681019\ttest1: 0.9788750\tbest: 0.9788750 (900)\ttotal: 1m 50s\tremaining: 8m 20s\n",
      "1000:\tlearn: 0.9667530\ttest: 0.9667530\ttest1: 0.9786899\tbest: 0.9786899 (1000)\ttotal: 2m 1s\tremaining: 8m 7s\n",
      "1100:\tlearn: 0.9653895\ttest: 0.9653895\ttest1: 0.9785417\tbest: 0.9785316 (1096)\ttotal: 2m 14s\tremaining: 7m 54s\n",
      "1200:\tlearn: 0.9641194\ttest: 0.9641194\ttest1: 0.9784570\tbest: 0.9784570 (1200)\ttotal: 2m 25s\tremaining: 7m 41s\n",
      "1300:\tlearn: 0.9628813\ttest: 0.9628813\ttest1: 0.9784243\tbest: 0.9783967 (1282)\ttotal: 2m 37s\tremaining: 7m 27s\n",
      "1400:\tlearn: 0.9616603\ttest: 0.9616603\ttest1: 0.9783426\tbest: 0.9783269 (1394)\ttotal: 2m 49s\tremaining: 7m 15s\n",
      "1500:\tlearn: 0.9605156\ttest: 0.9605156\ttest1: 0.9783048\tbest: 0.9783048 (1500)\ttotal: 3m 1s\tremaining: 7m 2s\n",
      "1600:\tlearn: 0.9593708\ttest: 0.9593708\ttest1: 0.9782554\tbest: 0.9782554 (1600)\ttotal: 3m 13s\tremaining: 6m 49s\n",
      "1700:\tlearn: 0.9582668\ttest: 0.9582668\ttest1: 0.9782883\tbest: 0.9782405 (1634)\ttotal: 3m 24s\tremaining: 6m 37s\n",
      "1800:\tlearn: 0.9571289\ttest: 0.9571289\ttest1: 0.9782300\tbest: 0.9782300 (1800)\ttotal: 3m 36s\tremaining: 6m 24s\n",
      "1900:\tlearn: 0.9560889\ttest: 0.9560889\ttest1: 0.9781996\tbest: 0.9781899 (1827)\ttotal: 3m 48s\tremaining: 6m 12s\n",
      "2000:\tlearn: 0.9550570\ttest: 0.9550570\ttest1: 0.9782242\tbest: 0.9781859 (1969)\ttotal: 4m\tremaining: 5m 59s\n",
      "2100:\tlearn: 0.9539960\ttest: 0.9539960\ttest1: 0.9782517\tbest: 0.9781859 (1969)\ttotal: 4m 12s\tremaining: 5m 48s\n",
      "Stopped by overfitting detector  (200 iterations wait)\n",
      "\n",
      "bestTest = 0.9781859381\n",
      "bestIteration = 1969\n",
      "\n",
      "Shrink model to first 1970 iterations.\n",
      "Fold  2 Score : 0.978186\n",
      "0:\tlearn: 7.4148120\ttest: 7.4148120\ttest1: 7.4176265\tbest: 7.4176265 (0)\ttotal: 94.3ms\tremaining: 7m 51s\n",
      "100:\tlearn: 0.9967937\ttest: 0.9967937\ttest1: 0.9956978\tbest: 0.9956978 (100)\ttotal: 13.4s\tremaining: 10m 51s\n",
      "200:\tlearn: 0.9841228\ttest: 0.9841228\ttest1: 0.9843795\tbest: 0.9843795 (200)\ttotal: 26.2s\tremaining: 10m 25s\n",
      "300:\tlearn: 0.9801265\ttest: 0.9801265\ttest1: 0.9818857\tbest: 0.9818857 (300)\ttotal: 39s\tremaining: 10m 9s\n",
      "400:\tlearn: 0.9772175\ttest: 0.9772175\ttest1: 0.9805210\tbest: 0.9805210 (400)\ttotal: 51s\tremaining: 9m 45s\n",
      "500:\tlearn: 0.9752120\ttest: 0.9752120\ttest1: 0.9798670\tbest: 0.9798670 (500)\ttotal: 1m 2s\tremaining: 9m 21s\n",
      "600:\tlearn: 0.9732373\ttest: 0.9732373\ttest1: 0.9791548\tbest: 0.9791548 (600)\ttotal: 1m 14s\tremaining: 9m 4s\n",
      "700:\tlearn: 0.9716448\ttest: 0.9716448\ttest1: 0.9787287\tbest: 0.9787287 (700)\ttotal: 1m 26s\tremaining: 8m 47s\n",
      "800:\tlearn: 0.9700788\ttest: 0.9700788\ttest1: 0.9782727\tbest: 0.9782704 (799)\ttotal: 1m 37s\tremaining: 8m 32s\n",
      "900:\tlearn: 0.9685902\ttest: 0.9685902\ttest1: 0.9780354\tbest: 0.9780335 (899)\ttotal: 1m 49s\tremaining: 8m 18s\n",
      "1000:\tlearn: 0.9672998\ttest: 0.9672998\ttest1: 0.9780152\tbest: 0.9779972 (943)\ttotal: 2m 1s\tremaining: 8m 4s\n",
      "1100:\tlearn: 0.9660018\ttest: 0.9660018\ttest1: 0.9777819\tbest: 0.9777819 (1100)\ttotal: 2m 13s\tremaining: 7m 52s\n",
      "1200:\tlearn: 0.9646826\ttest: 0.9646826\ttest1: 0.9775895\tbest: 0.9775895 (1200)\ttotal: 2m 25s\tremaining: 7m 39s\n",
      "1300:\tlearn: 0.9634355\ttest: 0.9634355\ttest1: 0.9774403\tbest: 0.9774403 (1300)\ttotal: 2m 37s\tremaining: 7m 26s\n",
      "1400:\tlearn: 0.9622319\ttest: 0.9622319\ttest1: 0.9773253\tbest: 0.9773253 (1400)\ttotal: 2m 48s\tremaining: 7m 13s\n",
      "1500:\tlearn: 0.9610969\ttest: 0.9610969\ttest1: 0.9773154\tbest: 0.9773013 (1409)\ttotal: 3m\tremaining: 7m 1s\n",
      "1600:\tlearn: 0.9598854\ttest: 0.9598854\ttest1: 0.9772301\tbest: 0.9772283 (1590)\ttotal: 3m 12s\tremaining: 6m 49s\n",
      "1700:\tlearn: 0.9587745\ttest: 0.9587745\ttest1: 0.9771780\tbest: 0.9771776 (1699)\ttotal: 3m 24s\tremaining: 6m 37s\n",
      "1800:\tlearn: 0.9577051\ttest: 0.9577051\ttest1: 0.9771580\tbest: 0.9771502 (1795)\ttotal: 3m 36s\tremaining: 6m 24s\n",
      "1900:\tlearn: 0.9567239\ttest: 0.9567239\ttest1: 0.9772097\tbest: 0.9771484 (1806)\ttotal: 3m 48s\tremaining: 6m 12s\n",
      "2000:\tlearn: 0.9556735\ttest: 0.9556735\ttest1: 0.9771996\tbest: 0.9771484 (1806)\ttotal: 4m\tremaining: 5m 59s\n",
      "Stopped by overfitting detector  (200 iterations wait)\n",
      "\n",
      "bestTest = 0.9771484275\n",
      "bestIteration = 1806\n",
      "\n",
      "Shrink model to first 1807 iterations.\n",
      "Fold  3 Score : 0.977148\n",
      "0:\tlearn: 7.4153135\ttest: 7.4153135\ttest1: 7.4154869\tbest: 7.4154869 (0)\ttotal: 97.3ms\tremaining: 8m 6s\n",
      "100:\tlearn: 0.9969950\ttest: 0.9969950\ttest1: 0.9962012\tbest: 0.9962012 (100)\ttotal: 13.6s\tremaining: 10m 58s\n",
      "200:\tlearn: 0.9843277\ttest: 0.9843277\ttest1: 0.9847478\tbest: 0.9847478 (200)\ttotal: 26.3s\tremaining: 10m 27s\n",
      "300:\tlearn: 0.9801566\ttest: 0.9801566\ttest1: 0.9818231\tbest: 0.9818231 (300)\ttotal: 38.1s\tremaining: 9m 55s\n",
      "400:\tlearn: 0.9772498\ttest: 0.9772498\ttest1: 0.9803969\tbest: 0.9803969 (400)\ttotal: 50s\tremaining: 9m 33s\n",
      "500:\tlearn: 0.9751202\ttest: 0.9751202\ttest1: 0.9796133\tbest: 0.9796115 (496)\ttotal: 1m 1s\tremaining: 9m 13s\n",
      "600:\tlearn: 0.9731576\ttest: 0.9731576\ttest1: 0.9789911\tbest: 0.9789879 (599)\ttotal: 1m 13s\tremaining: 8m 56s\n",
      "700:\tlearn: 0.9714292\ttest: 0.9714292\ttest1: 0.9785764\tbest: 0.9785764 (700)\ttotal: 1m 25s\tremaining: 8m 41s\n",
      "800:\tlearn: 0.9698610\ttest: 0.9698610\ttest1: 0.9783248\tbest: 0.9783248 (800)\ttotal: 1m 37s\tremaining: 8m 30s\n",
      "900:\tlearn: 0.9683739\ttest: 0.9683739\ttest1: 0.9781623\tbest: 0.9781623 (900)\ttotal: 1m 48s\tremaining: 8m 15s\n",
      "1000:\tlearn: 0.9670511\ttest: 0.9670511\ttest1: 0.9780216\tbest: 0.9780216 (1000)\ttotal: 2m\tremaining: 8m 1s\n",
      "1100:\tlearn: 0.9657166\ttest: 0.9657166\ttest1: 0.9778437\tbest: 0.9778407 (1099)\ttotal: 2m 12s\tremaining: 7m 48s\n",
      "1200:\tlearn: 0.9643916\ttest: 0.9643916\ttest1: 0.9777160\tbest: 0.9777071 (1186)\ttotal: 2m 23s\tremaining: 7m 34s\n",
      "1300:\tlearn: 0.9631319\ttest: 0.9631319\ttest1: 0.9776136\tbest: 0.9776136 (1300)\ttotal: 2m 35s\tremaining: 7m 21s\n",
      "1400:\tlearn: 0.9618751\ttest: 0.9618751\ttest1: 0.9775258\tbest: 0.9775248 (1394)\ttotal: 2m 47s\tremaining: 7m 9s\n",
      "1500:\tlearn: 0.9607143\ttest: 0.9607143\ttest1: 0.9774716\tbest: 0.9774691 (1497)\ttotal: 2m 59s\tremaining: 6m 58s\n",
      "1600:\tlearn: 0.9594990\ttest: 0.9594990\ttest1: 0.9774019\tbest: 0.9773919 (1578)\ttotal: 3m 11s\tremaining: 6m 45s\n",
      "1700:\tlearn: 0.9583978\ttest: 0.9583978\ttest1: 0.9773810\tbest: 0.9773702 (1672)\ttotal: 3m 22s\tremaining: 6m 33s\n",
      "1800:\tlearn: 0.9573135\ttest: 0.9573135\ttest1: 0.9773774\tbest: 0.9773675 (1761)\ttotal: 3m 34s\tremaining: 6m 21s\n",
      "1900:\tlearn: 0.9561876\ttest: 0.9561876\ttest1: 0.9773164\tbest: 0.9773096 (1878)\ttotal: 3m 46s\tremaining: 6m 9s\n",
      "2000:\tlearn: 0.9551321\ttest: 0.9551321\ttest1: 0.9773369\tbest: 0.9772942 (1928)\ttotal: 3m 58s\tremaining: 5m 57s\n",
      "2100:\tlearn: 0.9540843\ttest: 0.9540843\ttest1: 0.9773278\tbest: 0.9772942 (1928)\ttotal: 4m 10s\tremaining: 5m 45s\n",
      "Stopped by overfitting detector  (200 iterations wait)\n",
      "\n",
      "bestTest = 0.977294206\n",
      "bestIteration = 1928\n",
      "\n",
      "Shrink model to first 1929 iterations.\n",
      "Fold  4 Score : 0.977294\n",
      "0:\tlearn: 7.4168274\ttest: 7.4168274\ttest1: 7.4096908\tbest: 7.4096908 (0)\ttotal: 129ms\tremaining: 10m 44s\n",
      "100:\tlearn: 0.9958781\ttest: 0.9958781\ttest1: 1.0012463\tbest: 1.0012463 (100)\ttotal: 13.5s\tremaining: 10m 53s\n",
      "200:\tlearn: 0.9829526\ttest: 0.9829526\ttest1: 0.9899999\tbest: 0.9899999 (200)\ttotal: 26.2s\tremaining: 10m 25s\n",
      "300:\tlearn: 0.9787630\ttest: 0.9787630\ttest1: 0.9870408\tbest: 0.9870408 (300)\ttotal: 38.1s\tremaining: 9m 54s\n",
      "400:\tlearn: 0.9759439\ttest: 0.9759439\ttest1: 0.9856780\tbest: 0.9856780 (400)\ttotal: 49.8s\tremaining: 9m 31s\n",
      "500:\tlearn: 0.9737815\ttest: 0.9737815\ttest1: 0.9847947\tbest: 0.9847947 (500)\ttotal: 1m 1s\tremaining: 9m 12s\n",
      "600:\tlearn: 0.9719220\ttest: 0.9719220\ttest1: 0.9842954\tbest: 0.9842954 (600)\ttotal: 1m 13s\tremaining: 8m 55s\n",
      "700:\tlearn: 0.9702578\ttest: 0.9702578\ttest1: 0.9838834\tbest: 0.9838834 (700)\ttotal: 1m 24s\tremaining: 8m 40s\n",
      "800:\tlearn: 0.9686859\ttest: 0.9686859\ttest1: 0.9834736\tbest: 0.9834736 (800)\ttotal: 1m 36s\tremaining: 8m 25s\n",
      "900:\tlearn: 0.9672598\ttest: 0.9672598\ttest1: 0.9831681\tbest: 0.9831681 (900)\ttotal: 1m 48s\tremaining: 8m 11s\n",
      "1000:\tlearn: 0.9657913\ttest: 0.9657913\ttest1: 0.9830165\tbest: 0.9830117 (999)\ttotal: 1m 59s\tremaining: 7m 58s\n",
      "1100:\tlearn: 0.9643994\ttest: 0.9643994\ttest1: 0.9828232\tbest: 0.9828232 (1100)\ttotal: 2m 12s\tremaining: 7m 47s\n",
      "1200:\tlearn: 0.9631232\ttest: 0.9631232\ttest1: 0.9827152\tbest: 0.9827152 (1200)\ttotal: 2m 23s\tremaining: 7m 35s\n",
      "1300:\tlearn: 0.9619128\ttest: 0.9619128\ttest1: 0.9825714\tbest: 0.9825700 (1298)\ttotal: 2m 35s\tremaining: 7m 22s\n",
      "1400:\tlearn: 0.9606209\ttest: 0.9606209\ttest1: 0.9824462\tbest: 0.9824338 (1394)\ttotal: 2m 47s\tremaining: 7m 10s\n",
      "1500:\tlearn: 0.9593840\ttest: 0.9593840\ttest1: 0.9824074\tbest: 0.9824012 (1473)\ttotal: 2m 59s\tremaining: 6m 57s\n",
      "1600:\tlearn: 0.9581772\ttest: 0.9581772\ttest1: 0.9823563\tbest: 0.9823331 (1577)\ttotal: 3m 11s\tremaining: 6m 45s\n",
      "1700:\tlearn: 0.9571038\ttest: 0.9571038\ttest1: 0.9823099\tbest: 0.9822998 (1684)\ttotal: 3m 22s\tremaining: 6m 33s\n",
      "1800:\tlearn: 0.9560311\ttest: 0.9560311\ttest1: 0.9822639\tbest: 0.9822595 (1798)\ttotal: 3m 35s\tremaining: 6m 22s\n",
      "1900:\tlearn: 0.9549469\ttest: 0.9549469\ttest1: 0.9821781\tbest: 0.9821765 (1893)\ttotal: 3m 47s\tremaining: 6m 10s\n",
      "2000:\tlearn: 0.9539209\ttest: 0.9539209\ttest1: 0.9821406\tbest: 0.9821406 (2000)\ttotal: 3m 58s\tremaining: 5m 58s\n",
      "2100:\tlearn: 0.9529100\ttest: 0.9529100\ttest1: 0.9822127\tbest: 0.9821323 (2016)\ttotal: 4m 10s\tremaining: 5m 46s\n",
      "2200:\tlearn: 0.9518972\ttest: 0.9518972\ttest1: 0.9821721\tbest: 0.9821323 (2016)\ttotal: 4m 22s\tremaining: 5m 34s\n",
      "Stopped by overfitting detector  (200 iterations wait)\n",
      "\n",
      "bestTest = 0.9821322854\n",
      "bestIteration = 2016\n",
      "\n",
      "Shrink model to first 2017 iterations.\n",
      "Fold  5 Score : 0.982132\n",
      "Full Score 0.978753 \n",
      "\n",
      "\n",
      "Starting LGBMRegressor. Train shape: (341424, 98), test shape: (146765, 98)\n",
      "Training until validation scores don't improve for 200 rounds.\n",
      "[100]\ttraining's rmse: 0.980752\ttraining's l2: 0.961875\tvalid_1's rmse: 0.984942\tvalid_1's l2: 0.970112\n",
      "[200]\ttraining's rmse: 0.97043\ttraining's l2: 0.941735\tvalid_1's rmse: 0.98035\tvalid_1's l2: 0.961085\n",
      "[300]\ttraining's rmse: 0.964346\ttraining's l2: 0.929963\tvalid_1's rmse: 0.979536\tvalid_1's l2: 0.95949\n",
      "[400]\ttraining's rmse: 0.959321\ttraining's l2: 0.920297\tvalid_1's rmse: 0.979216\tvalid_1's l2: 0.958865\n",
      "[500]\ttraining's rmse: 0.954633\ttraining's l2: 0.911325\tvalid_1's rmse: 0.979149\tvalid_1's l2: 0.958734\n",
      "[600]\ttraining's rmse: 0.950303\ttraining's l2: 0.903076\tvalid_1's rmse: 0.97907\tvalid_1's l2: 0.958579\n",
      "[700]\ttraining's rmse: 0.946166\ttraining's l2: 0.89523\tvalid_1's rmse: 0.97904\tvalid_1's l2: 0.95852\n",
      "[800]\ttraining's rmse: 0.942087\ttraining's l2: 0.887527\tvalid_1's rmse: 0.979047\tvalid_1's l2: 0.958532\n",
      "[900]\ttraining's rmse: 0.938322\ttraining's l2: 0.880448\tvalid_1's rmse: 0.979296\tvalid_1's l2: 0.959021\n",
      "Early stopping, best iteration is:\n",
      "[720]\ttraining's rmse: 0.945322\ttraining's l2: 0.893634\tvalid_1's rmse: 0.978993\tvalid_1's l2: 0.958428\n",
      "Fold  1 Score : 0.978993\n",
      "Training until validation scores don't improve for 200 rounds.\n",
      "[100]\ttraining's rmse: 0.981201\ttraining's l2: 0.962755\tvalid_1's rmse: 0.984078\tvalid_1's l2: 0.968409\n",
      "[200]\ttraining's rmse: 0.97098\ttraining's l2: 0.942801\tvalid_1's rmse: 0.979201\tvalid_1's l2: 0.958835\n",
      "[300]\ttraining's rmse: 0.964649\ttraining's l2: 0.930548\tvalid_1's rmse: 0.978391\tvalid_1's l2: 0.95725\n",
      "[400]\ttraining's rmse: 0.959508\ttraining's l2: 0.920656\tvalid_1's rmse: 0.978228\tvalid_1's l2: 0.956929\n",
      "[500]\ttraining's rmse: 0.9548\ttraining's l2: 0.911643\tvalid_1's rmse: 0.978184\tvalid_1's l2: 0.956844\n",
      "[600]\ttraining's rmse: 0.950412\ttraining's l2: 0.903284\tvalid_1's rmse: 0.978137\tvalid_1's l2: 0.956752\n",
      "[700]\ttraining's rmse: 0.946214\ttraining's l2: 0.895322\tvalid_1's rmse: 0.978213\tvalid_1's l2: 0.956901\n",
      "Early stopping, best iteration is:\n",
      "[587]\ttraining's rmse: 0.950961\ttraining's l2: 0.904326\tvalid_1's rmse: 0.978101\tvalid_1's l2: 0.956683\n",
      "Fold  2 Score : 0.978101\n",
      "Training until validation scores don't improve for 200 rounds.\n",
      "[100]\ttraining's rmse: 0.981094\ttraining's l2: 0.962546\tvalid_1's rmse: 0.983395\tvalid_1's l2: 0.967066\n",
      "[200]\ttraining's rmse: 0.970934\ttraining's l2: 0.942714\tvalid_1's rmse: 0.978854\tvalid_1's l2: 0.958154\n",
      "[300]\ttraining's rmse: 0.964762\ttraining's l2: 0.930766\tvalid_1's rmse: 0.977947\tvalid_1's l2: 0.95638\n",
      "[400]\ttraining's rmse: 0.959647\ttraining's l2: 0.920922\tvalid_1's rmse: 0.977658\tvalid_1's l2: 0.955816\n",
      "[500]\ttraining's rmse: 0.954836\ttraining's l2: 0.911712\tvalid_1's rmse: 0.977551\tvalid_1's l2: 0.955605\n",
      "[600]\ttraining's rmse: 0.950438\ttraining's l2: 0.903333\tvalid_1's rmse: 0.977403\tvalid_1's l2: 0.955316\n",
      "[700]\ttraining's rmse: 0.946184\ttraining's l2: 0.895264\tvalid_1's rmse: 0.977386\tvalid_1's l2: 0.955284\n",
      "[800]\ttraining's rmse: 0.942267\ttraining's l2: 0.887867\tvalid_1's rmse: 0.977531\tvalid_1's l2: 0.955568\n",
      "Early stopping, best iteration is:\n",
      "[645]\ttraining's rmse: 0.948471\ttraining's l2: 0.899597\tvalid_1's rmse: 0.977342\tvalid_1's l2: 0.955198\n",
      "Fold  3 Score : 0.977342\n",
      "Training until validation scores don't improve for 200 rounds.\n",
      "[100]\ttraining's rmse: 0.98151\ttraining's l2: 0.963362\tvalid_1's rmse: 0.982953\tvalid_1's l2: 0.966196\n",
      "[200]\ttraining's rmse: 0.971254\ttraining's l2: 0.943334\tvalid_1's rmse: 0.978369\tvalid_1's l2: 0.957206\n",
      "[300]\ttraining's rmse: 0.965048\ttraining's l2: 0.931318\tvalid_1's rmse: 0.97746\tvalid_1's l2: 0.955428\n",
      "[400]\ttraining's rmse: 0.959906\ttraining's l2: 0.92142\tvalid_1's rmse: 0.977222\tvalid_1's l2: 0.954962\n",
      "[500]\ttraining's rmse: 0.955219\ttraining's l2: 0.912443\tvalid_1's rmse: 0.977138\tvalid_1's l2: 0.954799\n",
      "[600]\ttraining's rmse: 0.950825\ttraining's l2: 0.904068\tvalid_1's rmse: 0.977033\tvalid_1's l2: 0.954593\n",
      "[700]\ttraining's rmse: 0.94656\ttraining's l2: 0.895976\tvalid_1's rmse: 0.976915\tvalid_1's l2: 0.954363\n",
      "[800]\ttraining's rmse: 0.942624\ttraining's l2: 0.888539\tvalid_1's rmse: 0.976972\tvalid_1's l2: 0.954474\n",
      "Early stopping, best iteration is:\n",
      "[692]\ttraining's rmse: 0.946906\ttraining's l2: 0.89663\tvalid_1's rmse: 0.976886\tvalid_1's l2: 0.954306\n",
      "Fold  4 Score : 0.976886\n",
      "Training until validation scores don't improve for 200 rounds.\n",
      "[100]\ttraining's rmse: 0.979883\ttraining's l2: 0.96017\tvalid_1's rmse: 0.989472\tvalid_1's l2: 0.979055\n",
      "[200]\ttraining's rmse: 0.969713\ttraining's l2: 0.940343\tvalid_1's rmse: 0.984603\tvalid_1's l2: 0.969443\n",
      "[300]\ttraining's rmse: 0.963479\ttraining's l2: 0.928292\tvalid_1's rmse: 0.983534\tvalid_1's l2: 0.967339\n",
      "[400]\ttraining's rmse: 0.958378\ttraining's l2: 0.918488\tvalid_1's rmse: 0.983212\tvalid_1's l2: 0.966706\n",
      "[500]\ttraining's rmse: 0.953755\ttraining's l2: 0.909649\tvalid_1's rmse: 0.983142\tvalid_1's l2: 0.966568\n",
      "[600]\ttraining's rmse: 0.949332\ttraining's l2: 0.901232\tvalid_1's rmse: 0.983183\tvalid_1's l2: 0.966649\n",
      "[700]\ttraining's rmse: 0.945176\ttraining's l2: 0.893357\tvalid_1's rmse: 0.983158\tvalid_1's l2: 0.9666\n",
      "Early stopping, best iteration is:\n",
      "[546]\ttraining's rmse: 0.951698\ttraining's l2: 0.90573\tvalid_1's rmse: 0.98306\tvalid_1's l2: 0.966407\n",
      "Fold  5 Score : 0.983060\n",
      "Full Score 0.978879 \n",
      "\n",
      "\n"
     ]
    }
   ],
   "source": [
    "stack, blend = stacker_n_blender()"
   ]
  },
  {
   "cell_type": "code",
   "execution_count": 36,
   "metadata": {},
   "outputs": [],
   "source": [
    "sample_submission[\"amount_spent_per_room_night_scaled\"] = stack\n",
    "sample_submission.to_csv(\"submission_kernel_stack.csv\", index=False)\n",
    "\n",
    "sample_submission[\"amount_spent_per_room_night_scaled\"] = blend\n",
    "sample_submission.to_csv(\"submission_kernel_blend.csv\", index=False)"
   ]
  }
 ],
 "metadata": {
  "kernelspec": {
   "display_name": "Python 3",
   "language": "python",
   "name": "python3"
  },
  "language_info": {
   "codemirror_mode": {
    "name": "ipython",
    "version": 3
   },
   "file_extension": ".py",
   "mimetype": "text/x-python",
   "name": "python",
   "nbconvert_exporter": "python",
   "pygments_lexer": "ipython3",
   "version": "3.7.3"
  }
 },
 "nbformat": 4,
 "nbformat_minor": 1
}
