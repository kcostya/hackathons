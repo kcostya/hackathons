{
 "cells": [
  {
   "cell_type": "markdown",
   "metadata": {},
   "source": [
    "## 1. Dataset preparation\n",
    "In this section I include the required libraries and load the datasest into memory using Pandas"
   ]
  },
  {
   "cell_type": "code",
   "execution_count": 26,
   "metadata": {},
   "outputs": [],
   "source": [
    "# My best friends ever\n",
    "# Other notebable\n",
    "import gc\n",
    "import os\n",
    "import pickle\n",
    "# Text and Parsing\n",
    "import re\n",
    "import string\n",
    "# You say what?\n",
    "import warnings\n",
    "from collections import Counter\n",
    "from urllib.parse import urlparse\n",
    "\n",
    "# Gradient Boosting\n",
    "import lightgbm as lgb\n",
    "import numpy as np\n",
    "import pandas as pd\n",
    "import seaborn as sns\n",
    "from bs4 import BeautifulSoup\n",
    "from nltk.corpus import stopwords\n",
    "from pandas_profiling import ProfileReport\n",
    "from scipy.sparse import csr_matrix, hstack, vstack\n",
    "from sklearn import preprocessing\n",
    "from sklearn.cross_validation import KFold\n",
    "# Tf-Idf\n",
    "from sklearn.feature_extraction.text import CountVectorizer, TfidfVectorizer\n",
    "from sklearn.linear_model import RidgeClassifier\n",
    "from sklearn.metrics import f1_score\n",
    "from sklearn.model_selection import train_test_split\n",
    "from sklearn.pipeline import FeatureUnion\n",
    "from tqdm import tqdm\n",
    "\n",
    "# Data Viz\n",
    "import matplotlib.pyplot as plt\n",
    "from matplotlib_venn import venn2, venn2_circles\n",
    "\n",
    "%matplotlib inline\n",
    "\n",
    "warnings.filterwarnings(\"ignore\")"
   ]
  },
  {
   "cell_type": "markdown",
   "metadata": {},
   "source": [
    "### Load the files"
   ]
  },
  {
   "cell_type": "code",
   "execution_count": 31,
   "metadata": {
    "collapsed": true
   },
   "outputs": [],
   "source": [
    "preloaded = False"
   ]
  },
  {
   "cell_type": "code",
   "execution_count": 32,
   "metadata": {
    "collapsed": true
   },
   "outputs": [],
   "source": [
    "submission = pd.read_csv(\"data/sample_submission.csv\", index_col=\"Webpage_id\")"
   ]
  },
  {
   "cell_type": "code",
   "execution_count": 33,
   "metadata": {
    "collapsed": true
   },
   "outputs": [],
   "source": [
    "test = pd.read_csv(\"data/test.csv\")\n",
    "train = pd.read_csv(\"data/train.csv\")\n",
    "traindex = train.index\n",
    "testdex = test.index"
   ]
  },
  {
   "cell_type": "code",
   "execution_count": 30,
   "metadata": {},
   "outputs": [
    {
     "name": "stdout",
     "output_type": "stream",
     "text": [
      "test shape: (25787, 3) \n",
      "train shape: (53447, 4)\n"
     ]
    }
   ],
   "source": [
    "print(\"test shape: {} \\ntrain shape: {}\".format(test.shape, train.shape))"
   ]
  },
  {
   "cell_type": "code",
   "execution_count": 11,
   "metadata": {},
   "outputs": [
    {
     "data": {
      "text/html": [
       "<div>\n",
       "<style>\n",
       "    .dataframe thead tr:only-child th {\n",
       "        text-align: right;\n",
       "    }\n",
       "\n",
       "    .dataframe thead th {\n",
       "        text-align: left;\n",
       "    }\n",
       "\n",
       "    .dataframe tbody tr th {\n",
       "        vertical-align: top;\n",
       "    }\n",
       "</style>\n",
       "<table border=\"1\" class=\"dataframe\">\n",
       "  <thead>\n",
       "    <tr style=\"text-align: right;\">\n",
       "      <th></th>\n",
       "      <th>Webpage_id</th>\n",
       "      <th>Domain</th>\n",
       "      <th>Url</th>\n",
       "      <th>Tag</th>\n",
       "    </tr>\n",
       "  </thead>\n",
       "  <tbody>\n",
       "    <tr>\n",
       "      <th>0</th>\n",
       "      <td>1</td>\n",
       "      <td>www.fiercepharma.com</td>\n",
       "      <td>http://www.fiercepharma.com/marketing/tecfider...</td>\n",
       "      <td>news</td>\n",
       "    </tr>\n",
       "    <tr>\n",
       "      <th>1</th>\n",
       "      <td>2</td>\n",
       "      <td>www.fiercepharma.com</td>\n",
       "      <td>http://www.fiercepharma.com/pharma/novo-equipp...</td>\n",
       "      <td>news</td>\n",
       "    </tr>\n",
       "    <tr>\n",
       "      <th>2</th>\n",
       "      <td>3</td>\n",
       "      <td>www.fiercepharma.com</td>\n",
       "      <td>http://www.fiercepharma.com/pharma/another-exe...</td>\n",
       "      <td>news</td>\n",
       "    </tr>\n",
       "    <tr>\n",
       "      <th>3</th>\n",
       "      <td>4</td>\n",
       "      <td>www.fiercepharma.com</td>\n",
       "      <td>http://www.fiercepharma.com/pharma/teva-buy-bi...</td>\n",
       "      <td>news</td>\n",
       "    </tr>\n",
       "    <tr>\n",
       "      <th>4</th>\n",
       "      <td>5</td>\n",
       "      <td>www.fiercepharma.com</td>\n",
       "      <td>http://www.fiercepharma.com/marketing/actress-...</td>\n",
       "      <td>news</td>\n",
       "    </tr>\n",
       "  </tbody>\n",
       "</table>\n",
       "</div>"
      ],
      "text/plain": [
       "   Webpage_id                Domain  \\\n",
       "0           1  www.fiercepharma.com   \n",
       "1           2  www.fiercepharma.com   \n",
       "2           3  www.fiercepharma.com   \n",
       "3           4  www.fiercepharma.com   \n",
       "4           5  www.fiercepharma.com   \n",
       "\n",
       "                                                 Url   Tag  \n",
       "0  http://www.fiercepharma.com/marketing/tecfider...  news  \n",
       "1  http://www.fiercepharma.com/pharma/novo-equipp...  news  \n",
       "2  http://www.fiercepharma.com/pharma/another-exe...  news  \n",
       "3  http://www.fiercepharma.com/pharma/teva-buy-bi...  news  \n",
       "4  http://www.fiercepharma.com/marketing/actress-...  news  "
      ]
     },
     "execution_count": 11,
     "metadata": {},
     "output_type": "execute_result"
    }
   ],
   "source": [
    "train.head()"
   ]
  },
  {
   "cell_type": "code",
   "execution_count": 12,
   "metadata": {},
   "outputs": [
    {
     "data": {
      "text/html": [
       "<div>\n",
       "<style>\n",
       "    .dataframe thead tr:only-child th {\n",
       "        text-align: right;\n",
       "    }\n",
       "\n",
       "    .dataframe thead th {\n",
       "        text-align: left;\n",
       "    }\n",
       "\n",
       "    .dataframe tbody tr th {\n",
       "        vertical-align: top;\n",
       "    }\n",
       "</style>\n",
       "<table border=\"1\" class=\"dataframe\">\n",
       "  <thead>\n",
       "    <tr style=\"text-align: right;\">\n",
       "      <th></th>\n",
       "      <th>Webpage_id</th>\n",
       "      <th>Domain</th>\n",
       "      <th>Url</th>\n",
       "    </tr>\n",
       "  </thead>\n",
       "  <tbody>\n",
       "    <tr>\n",
       "      <th>0</th>\n",
       "      <td>31</td>\n",
       "      <td>isrctn.com</td>\n",
       "      <td>http://www.isrctn.com/ISRCTN57801413</td>\n",
       "    </tr>\n",
       "    <tr>\n",
       "      <th>1</th>\n",
       "      <td>32</td>\n",
       "      <td>www.clinicaltrialsregister.eu</td>\n",
       "      <td>https://www.clinicaltrialsregister.eu/ctr-sear...</td>\n",
       "    </tr>\n",
       "    <tr>\n",
       "      <th>2</th>\n",
       "      <td>33</td>\n",
       "      <td>www.clinicaltrialsregister.eu</td>\n",
       "      <td>https://www.clinicaltrialsregister.eu/ctr-sear...</td>\n",
       "    </tr>\n",
       "    <tr>\n",
       "      <th>3</th>\n",
       "      <td>34</td>\n",
       "      <td>www.clinicaltrialsregister.eu</td>\n",
       "      <td>https://www.clinicaltrialsregister.eu/ctr-sear...</td>\n",
       "    </tr>\n",
       "    <tr>\n",
       "      <th>4</th>\n",
       "      <td>35</td>\n",
       "      <td>www.clinicaltrialsregister.eu</td>\n",
       "      <td>https://www.clinicaltrialsregister.eu/ctr-sear...</td>\n",
       "    </tr>\n",
       "  </tbody>\n",
       "</table>\n",
       "</div>"
      ],
      "text/plain": [
       "   Webpage_id                         Domain  \\\n",
       "0          31                     isrctn.com   \n",
       "1          32  www.clinicaltrialsregister.eu   \n",
       "2          33  www.clinicaltrialsregister.eu   \n",
       "3          34  www.clinicaltrialsregister.eu   \n",
       "4          35  www.clinicaltrialsregister.eu   \n",
       "\n",
       "                                                 Url  \n",
       "0               http://www.isrctn.com/ISRCTN57801413  \n",
       "1  https://www.clinicaltrialsregister.eu/ctr-sear...  \n",
       "2  https://www.clinicaltrialsregister.eu/ctr-sear...  \n",
       "3  https://www.clinicaltrialsregister.eu/ctr-sear...  \n",
       "4  https://www.clinicaltrialsregister.eu/ctr-sear...  "
      ]
     },
     "execution_count": 12,
     "metadata": {},
     "output_type": "execute_result"
    }
   ],
   "source": [
    "test.head()"
   ]
  },
  {
   "cell_type": "code",
   "execution_count": 6,
   "metadata": {
    "collapsed": true
   },
   "outputs": [],
   "source": [
    "y = train.Tag.copy()\n",
    "train.drop(\"Tag\", axis=1, inplace=True)"
   ]
  },
  {
   "cell_type": "code",
   "execution_count": 10,
   "metadata": {
    "collapsed": true
   },
   "outputs": [],
   "source": [
    "df = pd.concat([train, test], axis=0)"
   ]
  },
  {
   "cell_type": "code",
   "execution_count": 11,
   "metadata": {},
   "outputs": [
    {
     "data": {
      "text/plain": [
       "(79234, 3)"
      ]
     },
     "execution_count": 11,
     "metadata": {},
     "output_type": "execute_result"
    }
   ],
   "source": [
    "df.shape"
   ]
  },
  {
   "cell_type": "code",
   "execution_count": 12,
   "metadata": {},
   "outputs": [
    {
     "data": {
      "text/html": [
       "<div>\n",
       "<style>\n",
       "    .dataframe thead tr:only-child th {\n",
       "        text-align: right;\n",
       "    }\n",
       "\n",
       "    .dataframe thead th {\n",
       "        text-align: left;\n",
       "    }\n",
       "\n",
       "    .dataframe tbody tr th {\n",
       "        vertical-align: top;\n",
       "    }\n",
       "</style>\n",
       "<table border=\"1\" class=\"dataframe\">\n",
       "  <thead>\n",
       "    <tr style=\"text-align: right;\">\n",
       "      <th></th>\n",
       "      <th>Webpage_id</th>\n",
       "      <th>Domain</th>\n",
       "      <th>Url</th>\n",
       "    </tr>\n",
       "  </thead>\n",
       "  <tbody>\n",
       "    <tr>\n",
       "      <th>0</th>\n",
       "      <td>1</td>\n",
       "      <td>www.fiercepharma.com</td>\n",
       "      <td>http://www.fiercepharma.com/marketing/tecfider...</td>\n",
       "    </tr>\n",
       "    <tr>\n",
       "      <th>1</th>\n",
       "      <td>2</td>\n",
       "      <td>www.fiercepharma.com</td>\n",
       "      <td>http://www.fiercepharma.com/pharma/novo-equipp...</td>\n",
       "    </tr>\n",
       "    <tr>\n",
       "      <th>2</th>\n",
       "      <td>3</td>\n",
       "      <td>www.fiercepharma.com</td>\n",
       "      <td>http://www.fiercepharma.com/pharma/another-exe...</td>\n",
       "    </tr>\n",
       "    <tr>\n",
       "      <th>3</th>\n",
       "      <td>4</td>\n",
       "      <td>www.fiercepharma.com</td>\n",
       "      <td>http://www.fiercepharma.com/pharma/teva-buy-bi...</td>\n",
       "    </tr>\n",
       "    <tr>\n",
       "      <th>4</th>\n",
       "      <td>5</td>\n",
       "      <td>www.fiercepharma.com</td>\n",
       "      <td>http://www.fiercepharma.com/marketing/actress-...</td>\n",
       "    </tr>\n",
       "  </tbody>\n",
       "</table>\n",
       "</div>"
      ],
      "text/plain": [
       "   Webpage_id                Domain  \\\n",
       "0           1  www.fiercepharma.com   \n",
       "1           2  www.fiercepharma.com   \n",
       "2           3  www.fiercepharma.com   \n",
       "3           4  www.fiercepharma.com   \n",
       "4           5  www.fiercepharma.com   \n",
       "\n",
       "                                                 Url  \n",
       "0  http://www.fiercepharma.com/marketing/tecfider...  \n",
       "1  http://www.fiercepharma.com/pharma/novo-equipp...  \n",
       "2  http://www.fiercepharma.com/pharma/another-exe...  \n",
       "3  http://www.fiercepharma.com/pharma/teva-buy-bi...  \n",
       "4  http://www.fiercepharma.com/marketing/actress-...  "
      ]
     },
     "execution_count": 12,
     "metadata": {},
     "output_type": "execute_result"
    }
   ],
   "source": [
    "df.head()"
   ]
  },
  {
   "cell_type": "markdown",
   "metadata": {},
   "source": [
    "__html_data__ file is too big to be read in one piece so we'll load it in chunks with the help of Pandas."
   ]
  },
  {
   "cell_type": "code",
   "execution_count": 13,
   "metadata": {},
   "outputs": [
    {
     "name": "stdout",
     "output_type": "stream",
     "text": [
      "CPU times: user 8.93 s, sys: 13.1 s, total: 22 s\n",
      "Wall time: 1min 47s\n"
     ]
    }
   ],
   "source": [
    "%%time\n",
    "if preloaded == False:\n",
    "    chunks = pd.read_csv(\"data/html_data.csv\", chunksize=1000)\n",
    "\n",
    "    html = pd.DataFrame()\n",
    "    html = pd.concat(chunk for chunk in chunks)\n",
    "\n",
    "    # Save the html dataframe to pickle file to load it directly next time\n",
    "    with open(\"data/html_raw.pkl\", \"wb\") as pkl:\n",
    "        pickle.dump(html, pkl, protocol=2)\n",
    "\n",
    "else:\n",
    "    with open(\"data/html_raw.pkl\", \"rb\") as pkl:\n",
    "        html = pickle.load(pkl)"
   ]
  },
  {
   "cell_type": "code",
   "execution_count": 14,
   "metadata": {},
   "outputs": [
    {
     "data": {
      "text/plain": [
       "(79345, 2)"
      ]
     },
     "execution_count": 14,
     "metadata": {},
     "output_type": "execute_result"
    }
   ],
   "source": [
    "html.shape"
   ]
  },
  {
   "cell_type": "code",
   "execution_count": 15,
   "metadata": {},
   "outputs": [
    {
     "data": {
      "text/plain": [
       "353"
      ]
     },
     "execution_count": 15,
     "metadata": {},
     "output_type": "execute_result"
    }
   ],
   "source": [
    "gc.collect()"
   ]
  },
  {
   "cell_type": "markdown",
   "metadata": {},
   "source": [
    "### Parse HTML with BeautifulSoup library"
   ]
  },
  {
   "cell_type": "code",
   "execution_count": 16,
   "metadata": {
    "collapsed": true
   },
   "outputs": [],
   "source": [
    "def cleanHtml(html):\n",
    "    soup = BeautifulSoup(html, \"lxml\")\n",
    "\n",
    "    # kill all script and style elements\n",
    "    for script in soup([\"script\", \"style\"]):\n",
    "        script.extract()  # rip it out\n",
    "\n",
    "    # get text\n",
    "    text = soup.get_text()\n",
    "\n",
    "    # break into lines and remove leading and trailing space on each\n",
    "    lines = (line.strip() for line in text.splitlines())\n",
    "    # break multi-headlines into a line each\n",
    "    chunks = (phrase.strip() for line in lines for phrase in line.split(\"  \"))\n",
    "    # drop blank lines\n",
    "    text = \" \".join(chunk for chunk in chunks if chunk)\n",
    "    return text"
   ]
  },
  {
   "cell_type": "code",
   "execution_count": 17,
   "metadata": {},
   "outputs": [
    {
     "name": "stdout",
     "output_type": "stream",
     "text": [
      "CPU times: user 1.74 s, sys: 1.66 s, total: 3.4 s\n",
      "Wall time: 12 s\n"
     ]
    }
   ],
   "source": [
    "%%time\n",
    "if preloaded == False:\n",
    "    # Create and register a new `tqdm` instance with `pandas`\n",
    "    # (can use tqdm_gui, optional kwargs, etc.)\n",
    "    tqdm.pandas()\n",
    "    html[\"html_text\"] = html[\"Html\"].progress_apply(lambda x: cleanHtml(x))\n",
    "    gc.collect()\n",
    "    # Save the html dataframe to pickle file to load it directly next time\n",
    "    with open(\"data/html_text.pkl\", \"wb\") as pkl:\n",
    "        pickle.dump(html_text, pkl, protocol=2)\n",
    "else:\n",
    "    with open(\"data/html.pkl\", \"rb\") as pkl:\n",
    "        html_text = pickle.load(pkl)"
   ]
  },
  {
   "cell_type": "code",
   "execution_count": 18,
   "metadata": {
    "collapsed": true
   },
   "outputs": [],
   "source": [
    "html[\"html_text\"] = html_text"
   ]
  },
  {
   "cell_type": "markdown",
   "metadata": {},
   "source": [
    "## 2. EDA\n",
    "Let's explore the data a little bit"
   ]
  },
  {
   "cell_type": "code",
   "execution_count": 19,
   "metadata": {},
   "outputs": [
    {
     "name": "stdout",
     "output_type": "stream",
     "text": [
      "{'guidelines', 'publication', 'profile', 'forum', 'others', 'news', 'conferences', 'clinicalTrials', 'thesis'}\n"
     ]
    }
   ],
   "source": [
    "labels = set(y)\n",
    "print(labels)"
   ]
  },
  {
   "cell_type": "code",
   "execution_count": 20,
   "metadata": {},
   "outputs": [
    {
     "data": {
      "text/plain": [
       "thesis.library.caltech.edu           301\n",
       "dspace.mit.edu                       300\n",
       "curate.nd.edu                        300\n",
       "www.dart-europe.eu                   300\n",
       "ecommons.cornell.edu                 300\n",
       "academiccommons.columbia.edu         300\n",
       "www.nice.org.uk                      230\n",
       "www.ncbi.nlm.nih.gov                 226\n",
       "ctri.nic.in                          209\n",
       "www.australiancancertrials.gov.au    209\n",
       "Name: Domain, dtype: int64"
      ]
     },
     "execution_count": 20,
     "metadata": {},
     "output_type": "execute_result"
    }
   ],
   "source": [
    "train[\"Domain\"].value_counts().head(10)"
   ]
  },
  {
   "cell_type": "code",
   "execution_count": 21,
   "metadata": {},
   "outputs": [
    {
     "data": {
      "text/plain": [
       "repository.library.georgetown.edu    300\n",
       "resolver.caltech.edu                 300\n",
       "www.kofam.ch                         210\n",
       "www.clinicaltrialsregister.eu        208\n",
       "www.ensaiosclinicos.gov.br           206\n",
       "www.pactr.org                        206\n",
       "www.mims.co.uk                       200\n",
       "isrctn.com                           200\n",
       "www.drks.de                          200\n",
       "www.guidelinecentral.com             200\n",
       "Name: Domain, dtype: int64"
      ]
     },
     "execution_count": 21,
     "metadata": {},
     "output_type": "execute_result"
    }
   ],
   "source": [
    "test[\"Domain\"].value_counts().head(10)"
   ]
  },
  {
   "cell_type": "markdown",
   "metadata": {},
   "source": [
    "How many unique values are in Domain feature?"
   ]
  },
  {
   "cell_type": "code",
   "execution_count": 22,
   "metadata": {},
   "outputs": [
    {
     "name": "stdout",
     "output_type": "stream",
     "text": [
      "unique domain names in train: 7.44%\n",
      "test: 8.34%\n"
     ]
    }
   ],
   "source": [
    "print(\n",
    "    \"unique domain names in train: {:.2f}%\\ntest: {:.2f}%\".format(\n",
    "        train[\"Domain\"].nunique() / len(train) * 100,\n",
    "        test[\"Domain\"].nunique() / len(test) * 100,\n",
    "    )\n",
    ")"
   ]
  },
  {
   "cell_type": "markdown",
   "metadata": {},
   "source": [
    "Let's see if there are any interconnections"
   ]
  },
  {
   "cell_type": "code",
   "execution_count": 23,
   "metadata": {
    "scrolled": true
   },
   "outputs": [
    {
     "data": {
      "image/png": "[encoded data removed]",
      "text/plain": [
       "<matplotlib.figure.Figure at 0x7fc991247898>"
      ]
     },
     "metadata": {},
     "output_type": "display_data"
    }
   ],
   "source": [
    "fig, axarr = plt.subplots(1, 2, figsize=(14, 7))\n",
    "\n",
    "\n",
    "def get_venn(axarr, feature):\n",
    "    axarr[0].set_title(f\"Overlap between {feature[0]} in train and test\")\n",
    "    venn2(\n",
    "        [set(train[feature[0]].values), set(test[feature[0]].values)],\n",
    "        set_labels=(\"train\", \"test\"),\n",
    "        ax=axarr[0],\n",
    "    )\n",
    "    axarr[1].set_title(f\"Overlap between {feature[1]} in train and test\")\n",
    "    venn2(\n",
    "        [set(train[feature[1]].values), set(test[feature[1]].values)],\n",
    "        set_labels=(\"train\", \"test\"),\n",
    "        ax=axarr[1],\n",
    "    )\n",
    "\n",
    "\n",
    "get_venn(axarr, [\"Domain\", \"Url\"])"
   ]
  },
  {
   "cell_type": "markdown",
   "metadata": {},
   "source": [
    "## 3. Feature Engineering"
   ]
  },
  {
   "cell_type": "markdown",
   "metadata": {},
   "source": [
    "### Features from raw html and text"
   ]
  },
  {
   "cell_type": "code",
   "execution_count": 24,
   "metadata": {},
   "outputs": [
    {
     "name": "stdout",
     "output_type": "stream",
     "text": [
      "CPU times: user 2min 26s, sys: 3.18 s, total: 2min 30s\n",
      "Wall time: 2min 30s\n"
     ]
    }
   ],
   "source": [
    "%%time\n",
    "html[\"html_text_char_count\"] = html[\"html_text\"].apply(len)\n",
    "html[\"html_text_num_caps\"] = html[\"html_text\"].apply(\n",
    "    (lambda x: len([wrd for wrd in x.split() if wrd.isupper()]))\n",
    ")\n",
    "html[\"html_text_caps_vs_char_count\"] = (\n",
    "    html[\"html_text_num_caps\"] / html[\"html_text_char_count\"] * 100\n",
    ")\n",
    "html[\"html_text\"] = html[\n",
    "    \"html_text\"\n",
    "].str.lower()  # Lowercase all text, so that capitalized words dont get treated differently\n",
    "html[\"html_text_num_words\"] = html[\"html_text\"].apply(\n",
    "    lambda comment: len(comment.split())\n",
    ")  # Count number of Words\n",
    "html[\"html_text_num_unique_words\"] = html[\"html_text\"].apply(\n",
    "    lambda comment: len(set(w for w in comment.split()))\n",
    ")\n",
    "html[\"html_text_words_vs_unique\"] = (\n",
    "    html[\"html_text_num_unique_words\"] / html[\"html_text_num_words\"] * 100\n",
    ")  # Count Unique Words\n",
    "html[\"html_text_num_punctuation\"] = html[\"html_text\"].apply(\n",
    "    lambda x: len(\"\".join(_ for _ in x if _ in string.punctuation))\n",
    ")\n",
    "html[\"html_text_num_digits\"] = html[\"html_text\"].apply(\n",
    "    lambda x: len([wrd for wrd in x.split() if wrd.isdigit()])\n",
    ")\n",
    "html[\"html_text_pun_vs_char_count\"] = (\n",
    "    html[\"html_text_num_punctuation\"] / html[\"html_text_char_count\"] * 100\n",
    ")\n",
    "html[\"html_text_digits_vs_char_count\"] = (\n",
    "    html[\"html_text_num_digits\"] / html[\"html_text_char_count\"] * 100\n",
    ")"
   ]
  },
  {
   "cell_type": "code",
   "execution_count": 25,
   "metadata": {},
   "outputs": [
    {
     "name": "stdout",
     "output_type": "stream",
     "text": [
      "CPU times: user 32.8 s, sys: 9.54 ms, total: 32.8 s\n",
      "Wall time: 32.8 s\n"
     ]
    }
   ],
   "source": [
    "%%time\n",
    "html[\"num_a\"] = html[\"Html\"].apply(lambda comment: (comment.count(\"<a href\")))\n",
    "html[\"num_pics\"] = html[\"Html\"].apply(lambda comment: (comment.count(\"<img\")))\n",
    "html[\"num_link\"] = html[\"Html\"].apply(lambda comment: (comment.count(\"<link\")))\n",
    "html[\"num_div\"] = html[\"Html\"].apply(lambda comment: (comment.count(\"<div\")))\n",
    "html[\"num_you\"] = html[\"Html\"].apply(lambda comment: (comment.count(\"youtube\")))"
   ]
  },
  {
   "cell_type": "code",
   "execution_count": 26,
   "metadata": {
    "collapsed": true
   },
   "outputs": [],
   "source": [
    "html_feats = html.columns[3:]"
   ]
  },
  {
   "cell_type": "code",
   "execution_count": 27,
   "metadata": {
    "collapsed": true
   },
   "outputs": [],
   "source": [
    "df_index = df.index\n",
    "df = df.merge(html.drop(\"Html\", axis=1), on=\"Webpage_id\", how=\"left\").set_index(\n",
    "    df_index\n",
    ")"
   ]
  },
  {
   "cell_type": "code",
   "execution_count": 28,
   "metadata": {},
   "outputs": [
    {
     "name": "stdout",
     "output_type": "stream",
     "text": [
      "CPU times: user 1.12 s, sys: 8.25 ms, total: 1.13 s\n",
      "Wall time: 1.12 s\n"
     ]
    }
   ],
   "source": [
    "%%time\n",
    "df[\"url_path\"] = df[\"Url\"].apply(lambda x: urlparse(x).path)\n",
    "df[\"url_query\"] = df[\"Url\"].apply(lambda x: urlparse(x).query)"
   ]
  },
  {
   "cell_type": "code",
   "execution_count": 29,
   "metadata": {},
   "outputs": [
    {
     "name": "stdout",
     "output_type": "stream",
     "text": [
      "CPU times: user 1.84 s, sys: 498 µs, total: 1.84 s\n",
      "Wall time: 1.84 s\n"
     ]
    }
   ],
   "source": [
    "%%time\n",
    "df[\"path\"] = df.url_path.apply(lambda x: 1 if x != \"\" else 0)\n",
    "df[\"query\"] = df.url_query.apply(lambda x: 1 if x != \"\" else 0)\n",
    "\n",
    "df[\"num_symbols\"] = df.Url.apply(\n",
    "    lambda comment: len(comment)\n",
    ")  # Count number of symbols in URL\n",
    "df[\"num_alphanumeric\"] = df.Url.apply(\n",
    "    lambda comment: (sum(c.isalpha() for c in comment))\n",
    ")  # Count number of AlphaNumeric\n",
    "df[\"num_nonalpha\"] = df[\"num_symbols\"] - df[\"num_alphanumeric\"]\n",
    "df[\"num_digits\"] = df.Url.apply(\n",
    "    lambda comment: (sum(c.isdigit() for c in comment))\n",
    ")  # Count number of Digits\n",
    "df[\"num_slashes\"] = df.Url.apply(\n",
    "    lambda comment: (comment.count(\"/\"))\n",
    ")  # Count number of slashes\n",
    "df[\"num_dashes\"] = df.Url.apply(\n",
    "    lambda comment: (comment.count(\"-\"))\n",
    ")  # Count number of dashes\n",
    "df[\"num_dots\"] = df.Url.apply(\n",
    "    lambda comment: (comment.count(\".\"))\n",
    ")  # Count number of dashes\n",
    "df[\"num_&\"] = df.Url.apply(lambda comment: (comment.count(\"&\")))  # Count number of &\n",
    "df[\"num_equals\"] = df.Url.apply(\n",
    "    lambda comment: (comment.count(\"=\"))\n",
    ")  # Count number of equal signs\n",
    "df[\"num_unders\"] = df.Url.apply(\n",
    "    lambda comment: (comment.count(\"_\"))\n",
    ")  # Count number of underlines\n",
    "df[\"num_%\"] = df.Url.apply(\n",
    "    lambda comment: (comment.count(\"%\"))\n",
    ")  # Count number of % signs\n",
    "df[\"alpha_share\"] = df.num_alphanumeric / df.num_symbols\n",
    "df[\"non_alpha_share\"] = df.num_nonalpha / df.num_symbols"
   ]
  },
  {
   "cell_type": "code",
   "execution_count": 30,
   "metadata": {},
   "outputs": [
    {
     "data": {
      "text/plain": [
       "Index(['Webpage_id', 'Domain', 'Url', 'html_text', 'html_text_char_count',\n",
       "       'html_text_num_caps', 'html_text_caps_vs_char_count',\n",
       "       'html_text_num_words', 'html_text_num_unique_words',\n",
       "       'html_text_words_vs_unique', 'html_text_num_punctuation',\n",
       "       'html_text_num_digits', 'html_text_pun_vs_char_count',\n",
       "       'html_text_digits_vs_char_count', 'num_a', 'num_pics', 'num_link',\n",
       "       'num_div', 'num_you', 'url_path', 'url_query', 'path', 'query',\n",
       "       'num_symbols', 'num_alphanumeric', 'num_nonalpha', 'num_digits',\n",
       "       'num_slashes', 'num_dashes', 'num_dots', 'num_&', 'num_equals',\n",
       "       'num_unders', 'num_%', 'alpha_share', 'non_alpha_share'],\n",
       "      dtype='object')"
      ]
     },
     "execution_count": 30,
     "metadata": {},
     "output_type": "execute_result"
    }
   ],
   "source": [
    "df.columns"
   ]
  },
  {
   "cell_type": "markdown",
   "metadata": {},
   "source": [
    "### Vectorizing URLs"
   ]
  },
  {
   "cell_type": "code",
   "execution_count": 31,
   "metadata": {},
   "outputs": [
    {
     "name": "stdout",
     "output_type": "stream",
     "text": [
      "CPU times: user 1.12 s, sys: 8.28 ms, total: 1.13 s\n",
      "Wall time: 1.2 s\n"
     ]
    }
   ],
   "source": [
    "%%time\n",
    "vectorizer = CountVectorizer(\n",
    "    analyzer=\"word\",\n",
    "    min_df=0.01,\n",
    "    decode_error=\"ignore\",\n",
    "    ngram_range=(1, 1),\n",
    "    dtype=np.int32,\n",
    ")\n",
    "\n",
    "# applying Vectorizer to preprocessed tweets\n",
    "ready_df = vectorizer.fit_transform(df[\"Url\"])\n",
    "\n",
    "# creating (word, count) list\n",
    "sub12 = zip(vectorizer.get_feature_names(), np.asarray(ready_df.sum(axis=0)).ravel())"
   ]
  },
  {
   "cell_type": "code",
   "execution_count": 32,
   "metadata": {},
   "outputs": [
    {
     "data": {
      "text/plain": [
       "[('http', 48745),\n",
       " ('com', 42805),\n",
       " ('www', 33008),\n",
       " ('https', 30577),\n",
       " ('org', 19088),\n",
       " ('html', 8426),\n",
       " ('10', 8153),\n",
       " ('edu', 7011),\n",
       " ('news', 5974),\n",
       " ('en', 5526)]"
      ]
     },
     "execution_count": 32,
     "metadata": {},
     "output_type": "execute_result"
    }
   ],
   "source": [
    "# getting Top20 words\n",
    "sorted(sub12, key=lambda x: x[1], reverse=True)[0:10]"
   ]
  },
  {
   "cell_type": "code",
   "execution_count": 33,
   "metadata": {
    "collapsed": true
   },
   "outputs": [],
   "source": [
    "vect_vocab = vectorizer.get_feature_names()"
   ]
  },
  {
   "cell_type": "code",
   "execution_count": 38,
   "metadata": {
    "collapsed": true
   },
   "outputs": [],
   "source": [
    "df.drop(\n",
    "    [\"Webpage_id\", \"Domain\", \"Url\", \"url_path\", \"url_query\", \"html_text\"],\n",
    "    axis=1,\n",
    "    inplace=True,\n",
    ")"
   ]
  },
  {
   "cell_type": "code",
   "execution_count": 39,
   "metadata": {},
   "outputs": [
    {
     "data": {
      "text/html": [
       "<div>\n",
       "<style>\n",
       "    .dataframe thead tr:only-child th {\n",
       "        text-align: right;\n",
       "    }\n",
       "\n",
       "    .dataframe thead th {\n",
       "        text-align: left;\n",
       "    }\n",
       "\n",
       "    .dataframe tbody tr th {\n",
       "        vertical-align: top;\n",
       "    }\n",
       "</style>\n",
       "<table border=\"1\" class=\"dataframe\">\n",
       "  <thead>\n",
       "    <tr style=\"text-align: right;\">\n",
       "      <th></th>\n",
       "      <th>html_text_char_count</th>\n",
       "      <th>html_text_num_caps</th>\n",
       "      <th>html_text_caps_vs_char_count</th>\n",
       "      <th>html_text_num_words</th>\n",
       "      <th>html_text_num_unique_words</th>\n",
       "      <th>html_text_words_vs_unique</th>\n",
       "      <th>html_text_num_punctuation</th>\n",
       "      <th>html_text_num_digits</th>\n",
       "      <th>html_text_pun_vs_char_count</th>\n",
       "      <th>html_text_digits_vs_char_count</th>\n",
       "      <th>...</th>\n",
       "      <th>num_digits</th>\n",
       "      <th>num_slashes</th>\n",
       "      <th>num_dashes</th>\n",
       "      <th>num_dots</th>\n",
       "      <th>num_&amp;</th>\n",
       "      <th>num_equals</th>\n",
       "      <th>num_unders</th>\n",
       "      <th>num_%</th>\n",
       "      <th>alpha_share</th>\n",
       "      <th>non_alpha_share</th>\n",
       "    </tr>\n",
       "  </thead>\n",
       "  <tbody>\n",
       "    <tr>\n",
       "      <th>0</th>\n",
       "      <td>7901</td>\n",
       "      <td>57</td>\n",
       "      <td>0.721428</td>\n",
       "      <td>1252</td>\n",
       "      <td>653</td>\n",
       "      <td>52.156550</td>\n",
       "      <td>245</td>\n",
       "      <td>14</td>\n",
       "      <td>3.100873</td>\n",
       "      <td>0.177193</td>\n",
       "      <td>...</td>\n",
       "      <td>1</td>\n",
       "      <td>4</td>\n",
       "      <td>15</td>\n",
       "      <td>2</td>\n",
       "      <td>0</td>\n",
       "      <td>0</td>\n",
       "      <td>0</td>\n",
       "      <td>0</td>\n",
       "      <td>0.816000</td>\n",
       "      <td>0.184000</td>\n",
       "    </tr>\n",
       "    <tr>\n",
       "      <th>1</th>\n",
       "      <td>5953</td>\n",
       "      <td>54</td>\n",
       "      <td>0.907106</td>\n",
       "      <td>955</td>\n",
       "      <td>504</td>\n",
       "      <td>52.774869</td>\n",
       "      <td>166</td>\n",
       "      <td>14</td>\n",
       "      <td>2.788510</td>\n",
       "      <td>0.235176</td>\n",
       "      <td>...</td>\n",
       "      <td>0</td>\n",
       "      <td>4</td>\n",
       "      <td>10</td>\n",
       "      <td>2</td>\n",
       "      <td>0</td>\n",
       "      <td>0</td>\n",
       "      <td>0</td>\n",
       "      <td>0</td>\n",
       "      <td>0.819149</td>\n",
       "      <td>0.180851</td>\n",
       "    </tr>\n",
       "    <tr>\n",
       "      <th>2</th>\n",
       "      <td>4671</td>\n",
       "      <td>42</td>\n",
       "      <td>0.899165</td>\n",
       "      <td>686</td>\n",
       "      <td>412</td>\n",
       "      <td>60.058309</td>\n",
       "      <td>151</td>\n",
       "      <td>12</td>\n",
       "      <td>3.232712</td>\n",
       "      <td>0.256904</td>\n",
       "      <td>...</td>\n",
       "      <td>0</td>\n",
       "      <td>4</td>\n",
       "      <td>11</td>\n",
       "      <td>2</td>\n",
       "      <td>0</td>\n",
       "      <td>0</td>\n",
       "      <td>0</td>\n",
       "      <td>0</td>\n",
       "      <td>0.828571</td>\n",
       "      <td>0.171429</td>\n",
       "    </tr>\n",
       "    <tr>\n",
       "      <th>3</th>\n",
       "      <td>4394</td>\n",
       "      <td>32</td>\n",
       "      <td>0.728266</td>\n",
       "      <td>666</td>\n",
       "      <td>392</td>\n",
       "      <td>58.858859</td>\n",
       "      <td>121</td>\n",
       "      <td>11</td>\n",
       "      <td>2.753755</td>\n",
       "      <td>0.250341</td>\n",
       "      <td>...</td>\n",
       "      <td>0</td>\n",
       "      <td>4</td>\n",
       "      <td>9</td>\n",
       "      <td>2</td>\n",
       "      <td>0</td>\n",
       "      <td>0</td>\n",
       "      <td>0</td>\n",
       "      <td>0</td>\n",
       "      <td>0.822222</td>\n",
       "      <td>0.177778</td>\n",
       "    </tr>\n",
       "    <tr>\n",
       "      <th>4</th>\n",
       "      <td>4939</td>\n",
       "      <td>30</td>\n",
       "      <td>0.607410</td>\n",
       "      <td>746</td>\n",
       "      <td>391</td>\n",
       "      <td>52.412869</td>\n",
       "      <td>115</td>\n",
       "      <td>10</td>\n",
       "      <td>2.328407</td>\n",
       "      <td>0.202470</td>\n",
       "      <td>...</td>\n",
       "      <td>0</td>\n",
       "      <td>4</td>\n",
       "      <td>10</td>\n",
       "      <td>2</td>\n",
       "      <td>0</td>\n",
       "      <td>0</td>\n",
       "      <td>0</td>\n",
       "      <td>0</td>\n",
       "      <td>0.849558</td>\n",
       "      <td>0.150442</td>\n",
       "    </tr>\n",
       "  </tbody>\n",
       "</table>\n",
       "<p>5 rows × 30 columns</p>\n",
       "</div>"
      ],
      "text/plain": [
       "   html_text_char_count  html_text_num_caps  html_text_caps_vs_char_count  \\\n",
       "0                  7901                  57                      0.721428   \n",
       "1                  5953                  54                      0.907106   \n",
       "2                  4671                  42                      0.899165   \n",
       "3                  4394                  32                      0.728266   \n",
       "4                  4939                  30                      0.607410   \n",
       "\n",
       "   html_text_num_words  html_text_num_unique_words  html_text_words_vs_unique  \\\n",
       "0                 1252                         653                  52.156550   \n",
       "1                  955                         504                  52.774869   \n",
       "2                  686                         412                  60.058309   \n",
       "3                  666                         392                  58.858859   \n",
       "4                  746                         391                  52.412869   \n",
       "\n",
       "   html_text_num_punctuation  html_text_num_digits  \\\n",
       "0                        245                    14   \n",
       "1                        166                    14   \n",
       "2                        151                    12   \n",
       "3                        121                    11   \n",
       "4                        115                    10   \n",
       "\n",
       "   html_text_pun_vs_char_count  html_text_digits_vs_char_count  \\\n",
       "0                     3.100873                        0.177193   \n",
       "1                     2.788510                        0.235176   \n",
       "2                     3.232712                        0.256904   \n",
       "3                     2.753755                        0.250341   \n",
       "4                     2.328407                        0.202470   \n",
       "\n",
       "        ...         num_digits  num_slashes  num_dashes  num_dots  num_&  \\\n",
       "0       ...                  1            4          15         2      0   \n",
       "1       ...                  0            4          10         2      0   \n",
       "2       ...                  0            4          11         2      0   \n",
       "3       ...                  0            4           9         2      0   \n",
       "4       ...                  0            4          10         2      0   \n",
       "\n",
       "   num_equals  num_unders  num_%  alpha_share  non_alpha_share  \n",
       "0           0           0      0     0.816000         0.184000  \n",
       "1           0           0      0     0.819149         0.180851  \n",
       "2           0           0      0     0.828571         0.171429  \n",
       "3           0           0      0     0.822222         0.177778  \n",
       "4           0           0      0     0.849558         0.150442  \n",
       "\n",
       "[5 rows x 30 columns]"
      ]
     },
     "execution_count": 39,
     "metadata": {},
     "output_type": "execute_result"
    }
   ],
   "source": [
    "df.head()"
   ]
  },
  {
   "cell_type": "code",
   "execution_count": 40,
   "metadata": {},
   "outputs": [
    {
     "data": {
      "text/plain": [
       "html_text_char_count              25705\n",
       "html_text_num_caps                 1589\n",
       "html_text_caps_vs_char_count      62783\n",
       "html_text_num_words                8908\n",
       "html_text_num_unique_words         3706\n",
       "html_text_words_vs_unique         55589\n",
       "html_text_num_punctuation          3910\n",
       "html_text_num_digits                553\n",
       "html_text_pun_vs_char_count       68790\n",
       "html_text_digits_vs_char_count    54706\n",
       "num_a                              1148\n",
       "num_pics                            292\n",
       "num_link                             81\n",
       "num_div                            1081\n",
       "num_you                              78\n",
       "path                                  2\n",
       "query                                 2\n",
       "num_symbols                         329\n",
       "num_alphanumeric                    267\n",
       "num_nonalpha                        147\n",
       "num_digits                           88\n",
       "num_slashes                          15\n",
       "num_dashes                           37\n",
       "num_dots                             17\n",
       "num_&                                14\n",
       "num_equals                           15\n",
       "num_unders                           36\n",
       "num_%                                56\n",
       "alpha_share                        3174\n",
       "non_alpha_share                    3174\n",
       "dtype: int64"
      ]
     },
     "execution_count": 40,
     "metadata": {},
     "output_type": "execute_result"
    }
   ],
   "source": [
    "df.apply(lambda x: len(x.unique()))"
   ]
  },
  {
   "cell_type": "code",
   "execution_count": 41,
   "metadata": {
    "collapsed": true
   },
   "outputs": [],
   "source": [
    "# df = np.log1p(df)"
   ]
  },
  {
   "cell_type": "markdown",
   "metadata": {},
   "source": [
    "### Encode Variables"
   ]
  },
  {
   "cell_type": "code",
   "execution_count": 42,
   "metadata": {
    "collapsed": true
   },
   "outputs": [],
   "source": [
    "# Encoder:\n",
    "# lbl = preprocessing.LabelEncoder()\n",
    "# df['Domain'] = lbl.fit_transform(df['Domain'])"
   ]
  },
  {
   "cell_type": "code",
   "execution_count": 7,
   "metadata": {},
   "outputs": [],
   "source": [
    "lbl_y = preprocessing.LabelEncoder()\n",
    "lbl_y.fit(y)\n",
    "y = lbl_y.transform(y)"
   ]
  },
  {
   "cell_type": "markdown",
   "metadata": {},
   "source": [
    "### Combine Dense Features with Sparse Text Bag of Words Features"
   ]
  },
  {
   "cell_type": "code",
   "execution_count": 9,
   "metadata": {},
   "outputs": [
    {
     "name": "stdout",
     "output_type": "stream",
     "text": [
      "CPU times: user 1.87 s, sys: 2.13 s, total: 4 s\n",
      "Wall time: 4.03 s\n"
     ]
    }
   ],
   "source": [
    "%%time\n",
    "# Combine Dense Features with Sparse Text Bag of Words Features\n",
    "X = hstack(\n",
    "    [csr_matrix(df.iloc[: train.shape[0], :].values), ready_df[0 : traindex.shape[0]]]\n",
    ")  # Sparse Matrix\n",
    "\n",
    "testing = hstack(\n",
    "    [csr_matrix(df.iloc[train.shape[0] :, :].values), ready_df[traindex.shape[0] :]]\n",
    ")\n",
    "\n",
    "full_vocab = df.columns.tolist() + vect_vocab"
   ]
  },
  {
   "cell_type": "code",
   "execution_count": null,
   "metadata": {
    "collapsed": true
   },
   "outputs": [],
   "source": [
    "del df, html, train, test, ready_df, ready_tfdf\n",
    "gc.collect()"
   ]
  },
  {
   "cell_type": "markdown",
   "metadata": {},
   "source": [
    "## 4. Modeling"
   ]
  },
  {
   "cell_type": "code",
   "execution_count": 11,
   "metadata": {
    "collapsed": true
   },
   "outputs": [],
   "source": [
    "lgbm_params = {\n",
    "    \"task\": \"train\",\n",
    "    \"boosting_type\": \"gbdt\",\n",
    "    \"objective\": \"multiclass\",\n",
    "    #'class_weight': 'balanced', # new parameter!\n",
    "    \"metric\": \"multi_logloss\",\n",
    "    \"num_class\": 9,\n",
    "    \"max_depth\": 15,\n",
    "    \"num_leaves\": 300,\n",
    "    \"feature_fraction\": 0.6,\n",
    "    \"bagging_fraction\": 0.8,\n",
    "    \"bagging_freq\": 2,\n",
    "    \"learning_rate\": 0.0175,\n",
    "    \"verbose\": 0,\n",
    "}"
   ]
  },
  {
   "cell_type": "code",
   "execution_count": 12,
   "metadata": {},
   "outputs": [
    {
     "name": "stdout",
     "output_type": "stream",
     "text": [
      "CPU times: user 19.1 s, sys: 2.8 s, total: 22 s\n",
      "Wall time: 22 s\n"
     ]
    }
   ],
   "source": [
    "%%time\n",
    "X_train, X_valid, y_train, y_valid = train_test_split(\n",
    "    X, y, test_size=0.10, random_state=42\n",
    ")"
   ]
  },
  {
   "cell_type": "code",
   "execution_count": 13,
   "metadata": {},
   "outputs": [
    {
     "data": {
      "text/plain": [
       "0"
      ]
     },
     "execution_count": 13,
     "metadata": {},
     "output_type": "execute_result"
    }
   ],
   "source": [
    "gc.collect()"
   ]
  },
  {
   "cell_type": "code",
   "execution_count": 14,
   "metadata": {
    "collapsed": true
   },
   "outputs": [],
   "source": [
    "# LGBM Dataset Formatting\n",
    "lgtrain = lgb.Dataset(\n",
    "    X_train,\n",
    "    y_train,\n",
    "    feature_name=full_vocab,\n",
    "    # categorical_feature = categorical\n",
    ")\n",
    "lgvalid = lgb.Dataset(\n",
    "    X_valid,\n",
    "    y_valid,\n",
    "    feature_name=full_vocab,\n",
    "    # categorical_feature = categorical\n",
    ")"
   ]
  },
  {
   "cell_type": "code",
   "execution_count": 15,
   "metadata": {
    "collapsed": true
   },
   "outputs": [],
   "source": [
    "def evalerror(preds, dtrain):\n",
    "    labels = dtrain.get_label()\n",
    "    preds = preds.reshape(-1, 9)\n",
    "    preds = preds.argmax(axis=1)\n",
    "    f_score = f1_score(labels, preds, average=\"weighted\")\n",
    "    return \"f1_score\", f_score, True\n",
    "\n",
    "\n",
    "evals_result = {}"
   ]
  },
  {
   "cell_type": "code",
   "execution_count": null,
   "metadata": {},
   "outputs": [],
   "source": [
    "%%time\n",
    "# Go Go Go\n",
    "lgb_clf = lgb.train(\n",
    "    lgbm_params,\n",
    "    lgtrain,\n",
    "    num_boost_round=100,\n",
    "    valid_sets=[lgtrain, lgvalid],\n",
    "    valid_names=[\"train\", \"valid\"],\n",
    "    early_stopping_rounds=10,\n",
    "    verbose_eval=1,\n",
    "    # feval=evalerror,\n",
    "    # evals_result=evals_result\n",
    ")"
   ]
  },
  {
   "cell_type": "markdown",
   "metadata": {},
   "source": [
    "### Model Evaluation"
   ]
  },
  {
   "cell_type": "code",
   "execution_count": 18,
   "metadata": {
    "collapsed": true
   },
   "outputs": [],
   "source": [
    "# lgb.plot_metric(evals_result, metric='f1_score');"
   ]
  },
  {
   "cell_type": "code",
   "execution_count": 19,
   "metadata": {},
   "outputs": [
    {
     "data": {
      "image/png": "[encoded data removed]",
      "text/plain": [
       "<matplotlib.figure.Figure at 0x7f66844cecc0>"
      ]
     },
     "metadata": {},
     "output_type": "display_data"
    }
   ],
   "source": [
    "# Feature Importance Plot\n",
    "f, ax = plt.subplots(figsize=[7, 20])\n",
    "lgb.plot_importance(lgb_clf, max_num_features=50, ax=ax)\n",
    "plt.tight_layout()\n",
    "plt.title(\"Light GBM Feature Importance\")\n",
    "plt.savefig(\"feature_import.png\")"
   ]
  },
  {
   "cell_type": "code",
   "execution_count": 20,
   "metadata": {
    "collapsed": true
   },
   "outputs": [],
   "source": [
    "lgpred = lgb_clf.predict(testing)"
   ]
  },
  {
   "cell_type": "code",
   "execution_count": 21,
   "metadata": {
    "collapsed": true
   },
   "outputs": [],
   "source": [
    "with open(\"data/lgpred.pkl\", \"wb\") as pkl:\n",
    "    pickle.dump(lgpred, pkl, protocol=2)"
   ]
  },
  {
   "cell_type": "code",
   "execution_count": 22,
   "metadata": {
    "collapsed": true
   },
   "outputs": [],
   "source": [
    "lgpred = np.apply_along_axis(np.argmax, 1, lgpred)"
   ]
  },
  {
   "cell_type": "code",
   "execution_count": 23,
   "metadata": {
    "collapsed": true
   },
   "outputs": [],
   "source": [
    "lgpred = lbl_y.inverse_transform(lgpred)"
   ]
  },
  {
   "cell_type": "code",
   "execution_count": 24,
   "metadata": {
    "collapsed": true
   },
   "outputs": [],
   "source": [
    "submission[\"Tag\"] = lgpred"
   ]
  },
  {
   "cell_type": "code",
   "execution_count": 25,
   "metadata": {
    "collapsed": true
   },
   "outputs": [],
   "source": [
    "submission.to_csv(\"lgsub.csv\", index=True, header=True)"
   ]
  }
 ],
 "metadata": {
  "kernelspec": {
   "display_name": "Python 3",
   "language": "python",
   "name": "python3"
  },
  "language_info": {
   "codemirror_mode": {
    "name": "ipython",
    "version": 3
   },
   "file_extension": ".py",
   "mimetype": "text/x-python",
   "name": "python",
   "nbconvert_exporter": "python",
   "pygments_lexer": "ipython3",
   "version": "3.7.3"
  }
 },
 "nbformat": 4,
 "nbformat_minor": 2
}
